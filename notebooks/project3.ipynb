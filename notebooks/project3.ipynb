{
 "cells": [
  {
   "cell_type": "code",
   "execution_count": 247,
   "metadata": {
    "collapsed": true
   },
   "outputs": [],
   "source": [
    "import numpy as np\n",
    "import pandas as pd"
   ]
  },
  {
   "cell_type": "code",
   "execution_count": 248,
   "outputs": [
    {
     "data": {
      "text/plain": "{'divide': 'ignore', 'over': 'warn', 'under': 'ignore', 'invalid': 'ignore'}"
     },
     "execution_count": 248,
     "metadata": {},
     "output_type": "execute_result"
    }
   ],
   "source": [
    "np.seterr(divide='ignore', invalid='ignore')"
   ],
   "metadata": {
    "collapsed": false,
    "pycharm": {
     "name": "#%%\n"
    }
   }
  },
  {
   "cell_type": "code",
   "execution_count": 249,
   "metadata": {
    "pycharm": {
     "name": "#%%\n"
    }
   },
   "outputs": [],
   "source": [
    "cad_file = \"../data/CAD.data\"\n",
    "fishing_file = \"../data/fishing.data\"\n",
    "contact_lenses_file = \"../data/contact-lenses.data\"\n",
    "caesarian_file = \"../data/caesarian.data\""
   ]
  },
  {
   "cell_type": "code",
   "execution_count": 250,
   "metadata": {
    "pycharm": {
     "name": "#%%\n"
    }
   },
   "outputs": [],
   "source": [
    "cad = pd.read_csv(cad_file, header=None, comment='#')\n",
    "fishing = pd.read_csv(fishing_file, header=None, comment='#')\n",
    "contact_lenses = pd.read_csv(contact_lenses_file, header=None, comment='#')\n",
    "caesarian = pd.read_csv(caesarian_file, header=None, comment='#')"
   ]
  },
  {
   "cell_type": "code",
   "execution_count": 251,
   "metadata": {
    "pycharm": {
     "name": "#%%\n"
    }
   },
   "outputs": [],
   "source": [
    "# function to get colnames from comments\n",
    "import string\n",
    "\n",
    "def get_colnames(file):\n",
    "    with open(file) as f:\n",
    "        lines = []\n",
    "        for line in f:\n",
    "            if line.startswith('#'):\n",
    "                lines.append(line.rstrip().strip('#'))\n",
    "        names = [line.translate(str.maketrans('', '', string.punctuation)).split()[0] for line in lines]\n",
    "        return names[2:-2] + [names[-1]]"
   ]
  },
  {
   "cell_type": "code",
   "execution_count": 252,
   "metadata": {
    "pycharm": {
     "name": "#%%\n"
    }
   },
   "outputs": [],
   "source": [
    "# get colnames from comments\n",
    "cad_colnames = get_colnames(cad_file)\n",
    "fishing_colnames = get_colnames(fishing_file)\n",
    "contact_lenses_colnames = get_colnames(contact_lenses_file)\n",
    "caesarian_colnames = get_colnames(caesarian_file)"
   ]
  },
  {
   "cell_type": "code",
   "execution_count": 253,
   "metadata": {
    "pycharm": {
     "name": "#%%\n"
    }
   },
   "outputs": [],
   "source": [
    "cad.columns = cad_colnames\n",
    "fishing.columns = fishing_colnames\n",
    "contact_lenses.columns = contact_lenses_colnames\n",
    "caesarian.columns = caesarian_colnames"
   ]
  },
  {
   "cell_type": "code",
   "execution_count": 254,
   "metadata": {
    "pycharm": {
     "name": "#%%\n"
    }
   },
   "outputs": [],
   "source": [
    "import pickle\n",
    "\n",
    "infile = \"../data/decision_tree_data.pickle\"\n",
    "\n",
    "with open(infile,'wb') as f:\n",
    "    pickle.dump(cad, f)\n",
    "    pickle.dump(fishing, f)\n",
    "    pickle.dump(contact_lenses, f)\n",
    "    pickle.dump(caesarian, f)"
   ]
  },
  {
   "cell_type": "code",
   "execution_count": 255,
   "metadata": {
    "pycharm": {
     "name": "#%%\n"
    }
   },
   "outputs": [],
   "source": [
    "with open(infile, 'rb') as f:\n",
    "    cad1 = pickle.load(f)\n",
    "    fishing1 = pickle.load(f)\n",
    "    contact_lenses1 = pickle.load(f)\n",
    "    caesarian1 = pickle.load(f)"
   ]
  },
  {
   "cell_type": "code",
   "execution_count": 258,
   "metadata": {
    "pycharm": {
     "name": "#%%\n"
    }
   },
   "outputs": [],
   "source": [
    "def get_entropy(arr):\n",
    "    arr = [0 if v is None else v for v in arr]\n",
    "    probs = np.divide(arr, np.sum(arr))\n",
    "    log2p = [0 if prob == 0 else np.log2(prob) for prob in probs]\n",
    "    return -np.sum(np.multiply(probs, log2p))"
   ]
  },
  {
   "cell_type": "code",
   "execution_count": 259,
   "metadata": {
    "pycharm": {
     "name": "#%%\n"
    }
   },
   "outputs": [],
   "source": [
    "from collections import OrderedDict\n",
    "import operator\n",
    "import copy\n",
    "\n",
    "def get_attribute_w_max_information_gain(df):\n",
    "\n",
    "    class_value_counts = df.iloc[:,-1:].value_counts().values\n",
    "    class_entropy = get_entropy(class_value_counts)\n",
    "    class_values = pd.unique(df.iloc[:,-1])\n",
    "\n",
    "    information_gain_dict = {}\n",
    "\n",
    "    # assumes class variable is in the last column\n",
    "    attributes = [x for x in df.columns[:-1]]\n",
    "\n",
    "    for attr in attributes:\n",
    "\n",
    "        if df[attr].dtype == 'object':\n",
    "            value_count_dict = df[attr].value_counts()\n",
    "            value_count_sum = value_count_dict.sum()\n",
    "            cardinality_dict = (value_count_dict/value_count_sum).to_dict()\n",
    "\n",
    "            count_arr = []\n",
    "            entropy_dict = {}\n",
    "\n",
    "            var_values = df[attr].unique()\n",
    "\n",
    "            col_ind = df.columns.get_loc(attr)\n",
    "            attr_class_count = df.iloc[:,[col_ind,-1]].value_counts()\n",
    "\n",
    "            for var_value in var_values:\n",
    "                for class_value in class_values:\n",
    "                    count_arr.append(attr_class_count.get((var_value, class_value)))\n",
    "                entropy_dict[var_value] = get_entropy(count_arr)\n",
    "                count_arr = []\n",
    "\n",
    "\n",
    "            cardinalities = list(dict(OrderedDict(sorted(cardinality_dict.items()))).values())\n",
    "            entropies = list(dict(OrderedDict(sorted(entropy_dict.items()))).values())\n",
    "            information_gain = class_entropy - np.sum(np.multiply(cardinalities, entropies))\n",
    "\n",
    "\n",
    "            information_gain_dict[attr] = information_gain\n",
    "\n",
    "        elif df[attr].dtype == 'int64':\n",
    "\n",
    "            col_ind = df.columns.get_loc(attr)\n",
    "            new_df = df.iloc[:,[col_ind,-1]]\n",
    "\n",
    "            new_df_sorted = new_df.sort_values(by=[attr]).reset_index(drop=True)\n",
    "\n",
    "            split_values = []\n",
    "\n",
    "            for j in range(len(new_df_sorted) - 1):\n",
    "                if new_df_sorted.iloc[j, 1] != new_df_sorted.iloc[j + 1, 1]:\n",
    "                    split_value = (new_df_sorted.iloc[j, 0] + new_df_sorted.iloc[j + 1, 0]) / 2\n",
    "                    split_values.append(split_value)\n",
    "\n",
    "            info_gain_dict_num = {}\n",
    "\n",
    "            for value in split_values:\n",
    "\n",
    "                num_entropy_dict = {}\n",
    "\n",
    "                new_df_sorted2 = copy.deepcopy(new_df_sorted)\n",
    "                ind = new_df_sorted2[attr] < float(value)\n",
    "                ind1 = new_df_sorted2[attr] >= float(value)\n",
    "\n",
    "                label1 = '< ' + str(value)\n",
    "                label2 = '>= ' + str(value)\n",
    "\n",
    "                new_df_sorted2.iloc[ind, 0] = label1\n",
    "                new_df_sorted2.iloc[ind1, 0] = label2\n",
    "\n",
    "                attr_class_count = new_df_sorted2.value_counts()\n",
    "\n",
    "                count_arr = []\n",
    "                for label in (label1, label2):\n",
    "                    for class_value in class_values:\n",
    "                        count_arr.append(attr_class_count.get((label, class_value)))\n",
    "                    num_entropy_dict[label] = get_entropy(count_arr)\n",
    "                    count_arr = []\n",
    "\n",
    "                value_count_dict = new_df_sorted2[attr].value_counts()\n",
    "\n",
    "                value_count_sum = value_count_dict.sum()\n",
    "                cardinality_dict = (value_count_dict/value_count_sum).to_dict()\n",
    "\n",
    "                cardinalities = list(dict(OrderedDict(sorted(cardinality_dict.items()))).values())\n",
    "                entropies = list(dict(OrderedDict(sorted(num_entropy_dict.items()))).values())\n",
    "                information_gain = class_entropy - np.sum(np.multiply(cardinalities, entropies))\n",
    "                info_gain_dict_num[value] = information_gain\n",
    "            max_gain_key = max(info_gain_dict_num.items(), key=operator.itemgetter(1))[0]\n",
    "            information_gain_dict[('Age' + '<' + str(max_gain_key))] = info_gain_dict_num[max_gain_key]\n",
    "\n",
    "    return max(information_gain_dict.items(), key=operator.itemgetter(1))[0]"
   ]
  },
  {
   "cell_type": "code",
   "execution_count": 265,
   "metadata": {
    "pycharm": {
     "name": "#%%\n"
    }
   },
   "outputs": [],
   "source": [
    "from treelib import Tree\n",
    "import uuid, re\n",
    "\n",
    "def grow_tree(tree, branch, new_id, parent_id):\n",
    "    if tree.size() == 0:\n",
    "        tree.create_node(branch, new_id)\n",
    "    else:\n",
    "        tree.create_node(branch, new_id, parent=parent_id)\n",
    "\n",
    "tree = Tree()\n",
    "\n",
    "def id3(df, parent = None):\n",
    "    class_values_length = len(pd.unique(df.iloc[:,-1]))\n",
    "\n",
    "    branch_id = uuid.uuid4()\n",
    "\n",
    "    if class_values_length == 1:\n",
    "        leaf_value = df.iloc[0,-1:].values[0]\n",
    "        grow_tree(tree, leaf_value, branch_id, parent)\n",
    "\n",
    "    elif len(df.columns) == 1:\n",
    "        leaf_value = df.iloc[:,-1:].mode().values[0][0]\n",
    "        grow_tree(tree, leaf_value, branch_id, parent)\n",
    "\n",
    "    else:\n",
    "        node_var = get_attribute_w_max_information_gain(df)\n",
    "        grow_tree(tree, node_var, branch_id, parent)\n",
    "\n",
    "        if node_var in df.columns.values:\n",
    "            is_num_var = False\n",
    "            col_values = list(np.unique(df[node_var].values))\n",
    "        else:\n",
    "            is_num_var = True\n",
    "            node_var_name_split = str.split(node_var, '<')\n",
    "            var_name = node_var_name_split[0]\n",
    "            var_num_value = node_var_name_split[1]\n",
    "            split1 = var_name + '<' + var_num_value\n",
    "            split2 = var_name + '>=' + var_num_value\n",
    "            col_values = [split1, split2]\n",
    "\n",
    "        new_parent = branch_id\n",
    "\n",
    "        if is_num_var:\n",
    "            new_branch_id1 = uuid.uuid4()\n",
    "            new_branch_id2 = uuid.uuid4()\n",
    "            tree.create_node(col_values[0], new_branch_id1, parent=new_parent)\n",
    "            tree.create_node(col_values[1], new_branch_id2, parent=new_parent)\n",
    "            name_value = re.split('<|>=', col_values[0])\n",
    "            name = name_value[0]\n",
    "            val = name_value[1]\n",
    "            ind1 = df[name] < float(val)\n",
    "            ind2 = df[name] >= float(val)\n",
    "            df1 = df[ind1]\n",
    "            df2 = df[ind2]\n",
    "            if df1.size == 0:\n",
    "                tree.remove_node(new_branch_id1)\n",
    "            else:\n",
    "                new_bid = uuid.uuid4()\n",
    "                if len(np.unique(df1.iloc[:,-1:].values)) == 1:\n",
    "                    leaf_value = df1.iloc[0,-1:].values[0]\n",
    "                    grow_tree(tree, leaf_value, new_bid, new_branch_id1)\n",
    "                elif df2.size == 0:\n",
    "                    leaf_value = df1.iloc[:,-1:].mode().values[0][0]\n",
    "                    grow_tree(tree, leaf_value, new_bid, new_branch_id1)\n",
    "                else:\n",
    "                    id3(df1, new_branch_id1)\n",
    "\n",
    "            if df2.size == 0:\n",
    "                tree.remove_node(new_branch_id2)\n",
    "            else:\n",
    "                new_bid = uuid.uuid4()\n",
    "                if len(np.unique(df2.iloc[:,-1:].values)) == 1:\n",
    "                    leaf_value = df2.iloc[0,-1:].values[0]\n",
    "                    grow_tree(tree, leaf_value, new_bid, new_branch_id2)\n",
    "                elif df1.size == 0:\n",
    "                    leaf_value = df2.iloc[:,-1:].mode().values[0][0]\n",
    "                    grow_tree(tree, leaf_value, new_bid, new_branch_id2)\n",
    "                else:\n",
    "                    id3(df2, new_branch_id2)\n",
    "\n",
    "        else:\n",
    "            for value in col_values:\n",
    "                new_branch_id = uuid.uuid4()\n",
    "                tree.create_node(value, new_branch_id, parent=new_parent)\n",
    "                ind = df[node_var] == value\n",
    "                df_v = df[ind].drop(node_var, axis=1)\n",
    "                id3(df_v, new_branch_id)\n",
    "    return tree"
   ]
  },
  {
   "cell_type": "code",
   "execution_count": 266,
   "outputs": [
    {
     "name": "stdout",
     "output_type": "stream",
     "text": [
      "Cardiac\n",
      "├── abnormal\n",
      "│   └── BP\n",
      "│       ├── high\n",
      "│       │   └── Delivery\n",
      "│       │       ├── late\n",
      "│       │       │   └── Age<34.5\n",
      "│       │       │       ├── Age<34.5\n",
      "│       │       │       │   └── no\n",
      "│       │       │       └── Age>=34.5\n",
      "│       │       │           └── yes\n",
      "│       │       ├── normal\n",
      "│       │       │   └── yes\n",
      "│       │       └── premature\n",
      "│       │           └── yes\n",
      "│       ├── low\n",
      "│       │   └── yes\n",
      "│       └── normal\n",
      "│           └── Age<26.5\n",
      "│               ├── Age<26.5\n",
      "│               │   └── no\n",
      "│               └── Age>=26.5\n",
      "│                   └── Delivery\n",
      "│                       ├── late\n",
      "│                       │   └── no\n",
      "│                       └── normal\n",
      "│                           └── Age<28.5\n",
      "│                               ├── Age<28.5\n",
      "│                               │   └── yes\n",
      "│                               └── Age>=28.5\n",
      "│                                   └── Age<29.0\n",
      "│                                       └── Age>=29.0\n",
      "│                                           └── yes\n",
      "└── normal\n",
      "    └── Age<22.0\n",
      "        ├── Age<22.0\n",
      "        │   └── Age<18.5\n",
      "        │       ├── Age<18.5\n",
      "        │       │   └── Age<17.5\n",
      "        │       │       ├── Age<17.5\n",
      "        │       │       │   └── yes\n",
      "        │       │       └── Age>=17.5\n",
      "        │       │           └── no\n",
      "        │       └── Age>=18.5\n",
      "        │           └── yes\n",
      "        └── Age>=22.0\n",
      "            └── Age<22.0\n",
      "                └── Age>=22.0\n",
      "                    └── no\n",
      "\n"
     ]
    }
   ],
   "source": [
    "tree=Tree()\n",
    "id3(caesarian1).show()"
   ],
   "metadata": {
    "collapsed": false,
    "pycharm": {
     "name": "#%%\n"
    }
   }
  },
  {
   "cell_type": "code",
   "execution_count": 267,
   "metadata": {
    "pycharm": {
     "name": "#%%\n"
    }
   },
   "outputs": [],
   "source": [
    "tree = Tree()\n",
    "dtree_cad = id3(cad1)\n",
    "tree = Tree()\n",
    "dtree_fishing = id3(fishing1)\n",
    "tree = Tree()\n",
    "dtree_contact_lenses = id3(contact_lenses1)\n",
    "tree=Tree()\n",
    "dtree_caesarian = id3(caesarian1)"
   ]
  },
  {
   "cell_type": "code",
   "execution_count": 268,
   "outputs": [
    {
     "data": {
      "text/plain": "[[UUID('fd0a7ae6-009b-4414-8846-3bf621cd7f41'),\n  UUID('f05e872a-d03e-4d40-950b-b44bdc27c6b1'),\n  UUID('479d8cdb-e664-4cd2-9eea-4ba6688c3a20'),\n  UUID('5be08b7d-bf2f-46d2-8c52-f3f5cecc3e02'),\n  UUID('6e04ef7b-fad0-4fbf-96c0-239a9e108027')],\n [UUID('fd0a7ae6-009b-4414-8846-3bf621cd7f41'),\n  UUID('f05e872a-d03e-4d40-950b-b44bdc27c6b1'),\n  UUID('479d8cdb-e664-4cd2-9eea-4ba6688c3a20'),\n  UUID('f01163b1-e24a-4b0e-a6f9-871b975593c9'),\n  UUID('8adeb749-13fa-442e-b262-599239aa49e7')],\n [UUID('fd0a7ae6-009b-4414-8846-3bf621cd7f41'),\n  UUID('759d8b9e-02df-4b7e-b18b-e93661b9089b'),\n  UUID('0c44581b-57dd-4a00-a19b-a400b50bc464'),\n  UUID('7cb9491b-3665-40f3-a3cb-228385e98306'),\n  UUID('494a4115-0945-4db9-a015-0ad80aaaaced')],\n [UUID('fd0a7ae6-009b-4414-8846-3bf621cd7f41'),\n  UUID('759d8b9e-02df-4b7e-b18b-e93661b9089b'),\n  UUID('0c44581b-57dd-4a00-a19b-a400b50bc464'),\n  UUID('0b287758-e018-4dcc-8639-8d71c6542d6c'),\n  UUID('9f6ea932-a8b7-4cd4-a662-a107bec902e8')],\n [UUID('fd0a7ae6-009b-4414-8846-3bf621cd7f41'),\n  UUID('369d6e63-e73f-4f47-964b-1e376459505f'),\n  UUID('092d48a0-6065-4ff8-beff-283d6e391a95')]]"
     },
     "execution_count": 268,
     "metadata": {},
     "output_type": "execute_result"
    }
   ],
   "source": [
    "dtree_cad.paths_to_leaves()"
   ],
   "metadata": {
    "collapsed": false,
    "pycharm": {
     "name": "#%%\n"
    }
   }
  },
  {
   "cell_type": "code",
   "execution_count": 269,
   "outputs": [
    {
     "name": "stdout",
     "output_type": "stream",
     "text": [
      "Cholesterol\n",
      "├── Borderline\n",
      "│   └── Gender\n",
      "│       ├── F\n",
      "│       │   └── No\n",
      "│       └── M\n",
      "│           └── No\n",
      "├── High\n",
      "│   └── Gender\n",
      "│       ├── F\n",
      "│       │   └── No\n",
      "│       └── M\n",
      "│           └── Yes\n",
      "└── Normal\n",
      "    └── No\n",
      "\n",
      "Sky\n",
      "├── Cloudy\n",
      "│   └── Yes\n",
      "├── Rainy\n",
      "│   └── Air\n",
      "│       ├── Cool\n",
      "│       │   └── No\n",
      "│       └── Warm\n",
      "│           └── Wind\n",
      "│               ├── Strong\n",
      "│               │   └── Yes\n",
      "│               └── Weak\n",
      "│                   └── No\n",
      "└── Sunny\n",
      "    └── Wind\n",
      "        ├── Strong\n",
      "        │   └── Yes\n",
      "        └── Weak\n",
      "            └── Water\n",
      "                ├── Cold\n",
      "                │   └── No\n",
      "                ├── Moderate\n",
      "                │   └── Yes\n",
      "                └── Warm\n",
      "                    └── No\n",
      "\n",
      "tearrate\n",
      "├── normal\n",
      "│   └── astigmatism\n",
      "│       ├── no\n",
      "│       │   └── age\n",
      "│       │       ├── pre-presbyopic\n",
      "│       │       │   └── soft\n",
      "│       │       ├── presbyopic\n",
      "│       │       │   └── prescription\n",
      "│       │       │       ├── hypermetrope\n",
      "│       │       │       │   └── soft\n",
      "│       │       │       └── myope\n",
      "│       │       │           └── none\n",
      "│       │       └── young\n",
      "│       │           └── soft\n",
      "│       └── yes\n",
      "│           └── prescription\n",
      "│               ├── hypermetrope\n",
      "│               │   └── age\n",
      "│               │       ├── pre-presbyopic\n",
      "│               │       │   └── none\n",
      "│               │       ├── presbyopic\n",
      "│               │       │   └── none\n",
      "│               │       └── young\n",
      "│               │           └── hard\n",
      "│               └── myope\n",
      "│                   └── hard\n",
      "└── reduced\n",
      "    └── none\n",
      "\n",
      "Cardiac\n",
      "├── abnormal\n",
      "│   └── BP\n",
      "│       ├── high\n",
      "│       │   └── Delivery\n",
      "│       │       ├── late\n",
      "│       │       │   └── Age<34.5\n",
      "│       │       │       ├── Age<34.5\n",
      "│       │       │       │   └── no\n",
      "│       │       │       └── Age>=34.5\n",
      "│       │       │           └── yes\n",
      "│       │       ├── normal\n",
      "│       │       │   └── yes\n",
      "│       │       └── premature\n",
      "│       │           └── yes\n",
      "│       ├── low\n",
      "│       │   └── yes\n",
      "│       └── normal\n",
      "│           └── Age<26.5\n",
      "│               ├── Age<26.5\n",
      "│               │   └── no\n",
      "│               └── Age>=26.5\n",
      "│                   └── Delivery\n",
      "│                       ├── late\n",
      "│                       │   └── no\n",
      "│                       └── normal\n",
      "│                           └── Age<28.5\n",
      "│                               ├── Age<28.5\n",
      "│                               │   └── yes\n",
      "│                               └── Age>=28.5\n",
      "│                                   └── Age<29.0\n",
      "│                                       └── Age>=29.0\n",
      "│                                           └── yes\n",
      "└── normal\n",
      "    └── Age<22.0\n",
      "        ├── Age<22.0\n",
      "        │   └── Age<18.5\n",
      "        │       ├── Age<18.5\n",
      "        │       │   └── Age<17.5\n",
      "        │       │       ├── Age<17.5\n",
      "        │       │       │   └── yes\n",
      "        │       │       └── Age>=17.5\n",
      "        │       │           └── no\n",
      "        │       └── Age>=18.5\n",
      "        │           └── yes\n",
      "        └── Age>=22.0\n",
      "            └── Age<22.0\n",
      "                └── Age>=22.0\n",
      "                    └── no\n",
      "\n"
     ]
    }
   ],
   "source": [
    "dtree_cad.show()\n",
    "dtree_fishing.show()\n",
    "dtree_contact_lenses.show()\n",
    "dtree_caesarian.show()"
   ],
   "metadata": {
    "collapsed": false,
    "pycharm": {
     "name": "#%%\n"
    }
   }
  },
  {
   "cell_type": "code",
   "execution_count": 270,
   "outputs": [],
   "source": [
    "import pygraphviz as pgv\n",
    "\n",
    "def draw_tree(tr, name):\n",
    "    tr.to_graphviz(name + '.dot')\n",
    "    G = pgv.AGraph(name + '.dot')\n",
    "    G.layout(prog=\"dot\")\n",
    "    G.draw(name + '.png')\n"
   ],
   "metadata": {
    "collapsed": false,
    "pycharm": {
     "name": "#%%\n"
    }
   }
  },
  {
   "cell_type": "code",
   "execution_count": 271,
   "outputs": [],
   "source": [
    "draw_tree(dtree_cad, 'cad')\n",
    "draw_tree(dtree_fishing, 'fishing')\n",
    "draw_tree(dtree_contact_lenses, 'contact_lenses')\n",
    "draw_tree(dtree_caesarian, 'caesarian')"
   ],
   "metadata": {
    "collapsed": false,
    "pycharm": {
     "name": "#%%\n"
    }
   }
  }
 ],
 "metadata": {
  "kernelspec": {
   "name": "python3",
   "language": "python",
   "display_name": "Python 3"
  },
  "language_info": {
   "codemirror_mode": {
    "name": "ipython",
    "version": 3
   },
   "file_extension": ".py",
   "mimetype": "text/x-python",
   "name": "python",
   "nbconvert_exporter": "python",
   "pygments_lexer": "ipython3",
   "version": "3.8.5"
  }
 },
 "nbformat": 4,
 "nbformat_minor": 1
}