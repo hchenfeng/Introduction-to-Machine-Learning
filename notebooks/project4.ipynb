{
 "cells": [
  {
   "cell_type": "code",
   "execution_count": 1,
   "metadata": {
    "collapsed": true
   },
   "outputs": [],
   "source": [
    "import pandas as pd\n",
    "import numpy as np\n",
    "\n",
    "\n",
    "fishing = pd.read_csv(\"../data/fishing(1).data\", header=None, names=('Wind', 'Air', 'Water', 'Sky', 'Fishing'))\n",
    "fishing_training = fishing.iloc[:14,:]\n",
    "fishing_testing = fishing.iloc[15:,:]\n",
    "digits_training = pd.read_csv(\"../data/digits-train.data\", header=None)\n",
    "digits_testing = pd.read_csv(\"../data/digits-test.data\", header=None)"
   ]
  },
  {
   "cell_type": "markdown",
   "source": [
    "One-hot encoding vs dummy encoding"
   ],
   "metadata": {
    "collapsed": false,
    "pycharm": {
     "name": "#%% md\n"
    }
   }
  },
  {
   "cell_type": "code",
   "execution_count": 2,
   "outputs": [],
   "source": [
    "dummy_fishing_train =  pd.get_dummies(fishing_training, drop_first=True)\n",
    "dummy_fishing_test =  pd.get_dummies(fishing_testing, drop_first=True)"
   ],
   "metadata": {
    "collapsed": false,
    "pycharm": {
     "name": "#%%\n"
    }
   }
  },
  {
   "cell_type": "code",
   "execution_count": 3,
   "outputs": [],
   "source": [
    "train_targets = digits_training.iloc[:,-1]\n",
    "train_targets_one_hot = pd.get_dummies(train_targets)"
   ],
   "metadata": {
    "collapsed": false,
    "pycharm": {
     "name": "#%%\n"
    }
   }
  },
  {
   "cell_type": "code",
   "execution_count": 4,
   "outputs": [],
   "source": [
    "from numba import njit, prange\n",
    "\n",
    "@njit(parallel=True)\n",
    "def min_max_normalize(narr):\n",
    "    new_narr = np.full((narr.shape[1], narr.shape[0]), 0.0)\n",
    "\n",
    "    narr = narr.T\n",
    "\n",
    "    for i in prange(narr.shape[0]):\n",
    "        min_val = np.min(narr[i])\n",
    "        max_val = np.max(narr[i])\n",
    "        diff = max_val - min_val\n",
    "        for j in prange(narr.shape[1]):\n",
    "            if diff == 0:\n",
    "                new_narr[i,j] = 0\n",
    "            else:\n",
    "                new_narr[i,j] = (narr[i,j] - min_val)/diff\n",
    "\n",
    "    return new_narr.T"
   ],
   "metadata": {
    "collapsed": false,
    "pycharm": {
     "name": "#%%\n"
    }
   }
  },
  {
   "cell_type": "code",
   "execution_count": 5,
   "outputs": [],
   "source": [
    "# def min_max_normalize(narr):\n",
    "#     arr_length = len(narr)\n",
    "#     new_narr = np.empty((0,arr_length))\n",
    "#\n",
    "#     for col in narr.T:\n",
    "#         min_val = np.min(col)\n",
    "#         max_val = np.max(col)\n",
    "#         diff = max_val - min_val\n",
    "#         if diff == 0:\n",
    "#             new_narr = np.append(new_narr, [np.zeros((arr_length))], axis=0)\n",
    "#         else:\n",
    "#             min_max_n_vals = np.divide(np.subtract(col, min_val), diff)\n",
    "#             new_narr = np.append(new_narr, [min_max_n_vals], axis=0)\n",
    "#\n",
    "#     return new_narr"
   ],
   "metadata": {
    "collapsed": false,
    "pycharm": {
     "name": "#%%\n"
    }
   }
  },
  {
   "cell_type": "code",
   "execution_count": 6,
   "outputs": [],
   "source": [
    "@njit\n",
    "def get_small_rand(length):\n",
    "    return np.random.uniform(-0.001, 0.001, size=(length,))\n",
    "\n",
    "# activation functions\n",
    "\n",
    "@njit\n",
    "def get_sum_of_prod(vec, weights):\n",
    "    vec = np.ascontiguousarray(vec)\n",
    "    weights = np.ascontiguousarray(weights)\n",
    "    return np.dot(vec, weights)\n",
    "\n",
    "@njit\n",
    "def activation_binary_sigmoid(sigma):\n",
    "    return 1 / (1 + np.e ** (-sigma))\n",
    "\n",
    "# @njit\n",
    "# def activation_softmax(sigmas):\n",
    "#     return np.exp(sigmas) / np.sum(np.exp(sigmas))"
   ],
   "metadata": {
    "collapsed": false,
    "pycharm": {
     "name": "#%%\n"
    }
   }
  },
  {
   "cell_type": "code",
   "execution_count": 7,
   "outputs": [],
   "source": [
    "@njit\n",
    "def feed_forward(vec, weights):\n",
    "    sop = get_sum_of_prod(vec, weights)\n",
    "    out = activation_binary_sigmoid(sop)\n",
    "    return out"
   ],
   "metadata": {
    "collapsed": false,
    "pycharm": {
     "name": "#%%\n"
    }
   }
  },
  {
   "cell_type": "code",
   "execution_count": 8,
   "outputs": [],
   "source": [
    "@njit\n",
    "def get_rmse(t_vec, y_vec):\n",
    "    return np.sqrt(np.sum(np.square(np.subtract(t_vec, y_vec))))/len(t_vec)\n",
    "\n",
    "@njit\n",
    "def get_sigmoid_loss(t_vec, y_vec):\n",
    "    d = np.multiply(y_vec, 1 - y_vec)\n",
    "    e = t_vec - y_vec\n",
    "    return np.multiply(d, e)\n",
    "\n",
    "@njit\n",
    "def get_hidden_loss(h, w_vec, e_vec):\n",
    "    h_d = np.multiply(h, 1-h)\n",
    "    w_e_dot = np.dot(w_vec, e_vec)\n",
    "    return np.multiply(h_d, w_e_dot)"
   ],
   "metadata": {
    "collapsed": false,
    "pycharm": {
     "name": "#%%\n"
    }
   }
  },
  {
   "cell_type": "code",
   "execution_count": 9,
   "outputs": [],
   "source": [
    "@njit\n",
    "def update_weights(error, weights, outs, learning_rate):\n",
    "    temp = learning_rate * error\n",
    "    adjustments = np.outer(outs, temp)\n",
    "    return np.add(weights, adjustments)\n",
    "\n",
    "    # for i in prange(error.shape[0]):\n",
    "    #     temp = learning_rate * error[i]\n",
    "    #     weights_adjustments[i] = np.multiply(outs, temp)\n",
    "    #\n",
    "    # return np.add(weights, weights_adjustments.T)"
   ],
   "metadata": {
    "collapsed": false,
    "pycharm": {
     "name": "#%%\n"
    }
   }
  },
  {
   "cell_type": "code",
   "execution_count": 10,
   "outputs": [],
   "source": [
    "train_input = digits_training.iloc[:,:-1].to_numpy(dtype=float)\n",
    "train_output = pd.get_dummies(digits_training.iloc[:,-1]).to_numpy(dtype=float)\n",
    "train_input_normalized = min_max_normalize(train_input)\n",
    "\n",
    "test_input = digits_testing.iloc[:,:-1].to_numpy(dtype=float)\n",
    "test_output = pd.get_dummies(digits_testing.iloc[:,-1]).to_numpy(dtype=float)\n",
    "test_input_normalized = min_max_normalize(test_input)"
   ],
   "metadata": {
    "collapsed": false,
    "pycharm": {
     "name": "#%%\n"
    }
   }
  },
  {
   "cell_type": "code",
   "execution_count": 11,
   "outputs": [],
   "source": [
    "# arr_t = train_input_normalized.T\n",
    "#\n",
    "# arr_t1 = np.array([1.0]*3823)\n",
    "#\n",
    "# new_in = np.concatenate(([arr_t1], arr_t)).T\n",
    "# input_weights = np.reshape(get_small_rand(65 * 50), (65, 50))\n",
    "#\n",
    "# hidden_outs = feed_forward(new_in[0], input_weights)\n",
    "# new_hidden_outs = np.concatenate(([1.0], hidden_outs))\n",
    "#\n",
    "# hidden_weights = np.reshape(get_small_rand(51 * 10), (51, 10))\n",
    "#\n",
    "# first = feed_forward(new_hidden_outs, hidden_weights)\n",
    "#\n",
    "# s_loss = get_sigmoid_loss(train_output[0], first)\n",
    "#\n",
    "# test_arr = np.full((10, 51), 0.0)"
   ],
   "metadata": {
    "collapsed": false,
    "pycharm": {
     "name": "#%%\n"
    }
   }
  },
  {
   "cell_type": "code",
   "execution_count": 108,
   "outputs": [],
   "source": [
    "@njit\n",
    "def train_neural_net(X, Y, epoch=1, learning_rate=0.5):\n",
    "\n",
    "    input_n_row = X.shape[0]\n",
    "    # create array of 1s\n",
    "    temp_arr = np.array(([1.0] * input_n_row))\n",
    "    # prepend 1 to each instance\n",
    "    new_input = np.concatenate((temp_arr.reshape(1,input_n_row), X.T)).T\n",
    "\n",
    "    # use random number between -.001 and .001 as input weights\n",
    "    # 65 because 64 inputs and 1 bias\n",
    "    # 50 because 50 hidden nodes\n",
    "    input_weights = np.reshape(get_small_rand(65 * 50), (65, 50))\n",
    "    # input_weights = np.array([1,1,0.5],[1,-1,2])\n",
    "\n",
    "    # similarly for hidden layer weights\n",
    "    # 51 because 50 nodes (2/3 of the sum of input and output nodes) and 1 more for bias\n",
    "    # 10 because 10 output nodes\n",
    "    hidden_weights = np.reshape(get_small_rand(51 * 10), (51, 10))\n",
    "    # hidden_weights = np.array([1,1.5,-1])\n",
    "\n",
    "    rmse = np.zeros((epoch,))\n",
    "\n",
    "    for i in range(epoch):\n",
    "        target = np.array([0.])\n",
    "        y_bar = np.array([0.])\n",
    "        for row in range(X.shape[0]):\n",
    "\n",
    "            # outputs at hidden nodes\n",
    "            hidden_outs = feed_forward(new_input[row], input_weights)\n",
    "            # prepend 1 as bias\n",
    "            new_hidden_outs = np.concatenate((np.array([1.0]), hidden_outs))\n",
    "            # current output\n",
    "            y_bar = feed_forward(new_hidden_outs, hidden_weights)\n",
    "            # current target\n",
    "            target = Y[row]\n",
    "            # backpropagated output error\n",
    "            output_error = get_sigmoid_loss(target, y_bar)\n",
    "            # backpropagated hidden error\n",
    "            hidden_error = get_hidden_loss(hidden_outs, hidden_weights[1:], output_error)\n",
    "\n",
    "            new_hidden_weights = update_weights(output_error,hidden_weights, new_hidden_outs, learning_rate)\n",
    "            hidden_weights = new_hidden_weights\n",
    "\n",
    "            new_input_weights = update_weights(hidden_error,input_weights, new_input[row], learning_rate)\n",
    "            input_weights = new_input_weights\n",
    "        # current rmse\n",
    "        current_rmse = get_rmse(target, y_bar)\n",
    "        rmse[i] = current_rmse\n",
    "\n",
    "    return input_weights, hidden_weights, rmse"
   ],
   "metadata": {
    "collapsed": false,
    "pycharm": {
     "name": "#%%\n"
    }
   }
  },
  {
   "cell_type": "code",
   "execution_count": 111,
   "outputs": [],
   "source": [
    "test = train_neural_net(train_input_normalized, train_output, epoch=10)"
   ],
   "metadata": {
    "collapsed": false,
    "pycharm": {
     "name": "#%%\n"
    }
   }
  },
  {
   "cell_type": "code",
   "execution_count": 112,
   "outputs": [
    {
     "data": {
      "text/plain": "<AxesSubplot:>"
     },
     "execution_count": 112,
     "metadata": {},
     "output_type": "execute_result"
    },
    {
     "data": {
      "text/plain": "<Figure size 432x288 with 1 Axes>",
      "image/png": "[encoded data removed]"
     },
     "metadata": {
      "needs_background": "light"
     },
     "output_type": "display_data"
    }
   ],
   "source": [
    "pd.DataFrame(test[2]).plot()"
   ],
   "metadata": {
    "collapsed": false,
    "pycharm": {
     "name": "#%%\n"
    }
   }
  },
  {
   "cell_type": "code",
   "execution_count": 43,
   "outputs": [],
   "source": [
    "# @njit\n",
    "def neural_net_predict(input_ws, hidden_ws, X, Y):\n",
    "    input_n_row = X.shape[0]\n",
    "    temp_arr = np.array(([1.0] * input_n_row))\n",
    "    new_X = np.concatenate((temp_arr.reshape(1,input_n_row), X.T)).T\n",
    "    hidden_outs = feed_forward(new_X, input_ws)\n",
    "    new_hidden_outs = np.concatenate((np.array([1.0]*input_n_row).reshape(1,input_n_row), hidden_outs.T)).T\n",
    "    outs = feed_forward(new_hidden_outs, hidden_ws)\n",
    "    preds = outs.argmax(1)\n",
    "    return np.sum(preds == Y) / input_n_row"
   ],
   "metadata": {
    "collapsed": false,
    "pycharm": {
     "name": "#%%\n"
    }
   }
  },
  {
   "cell_type": "markdown",
   "source": [
    "Although optimization is not part of the goal for this assignment, experiment was attempted using the @njit decorator in the Numba package, which translates decorated python code into fast machine code using LLVM.\n",
    "\n",
    "Results show significant improvement when compared with the version not decorated with @njit. Still, the usual caution applies: vector operations are preferred over loops. Replacing a loop with np.out() in the update_weights() function significantly improved the runtime of the current model.\n",
    "\n",
    "In the current implementation of training, 20 epochs takes about a bit over 1s to run.\n",
    "\n",
    "It was mentioned that implementation of neural network may be slow in R."
   ],
   "metadata": {
    "collapsed": false,
    "pycharm": {
     "name": "#%% md\n"
    }
   }
  },
  {
   "cell_type": "code",
   "execution_count": 121,
   "outputs": [
    {
     "name": "stdout",
     "output_type": "stream",
     "text": [
      "6.03 s ± 525 ms per loop (mean ± std. dev. of 7 runs, 1 loop each)\n"
     ]
    }
   ],
   "source": [
    "# %timeit train_neural_net(train_input_normalized, train_output, epoch=100)"
   ],
   "metadata": {
    "collapsed": false,
    "pycharm": {
     "name": "#%%\n"
    }
   }
  },
  {
   "cell_type": "code",
   "execution_count": 118,
   "outputs": [],
   "source": [
    "weights = train_neural_net(train_input_normalized, train_output, epoch=10)"
   ],
   "metadata": {
    "collapsed": false,
    "pycharm": {
     "name": "#%%\n"
    }
   }
  },
  {
   "cell_type": "code",
   "execution_count": 119,
   "outputs": [
    {
     "data": {
      "text/plain": "0.9963379544860057"
     },
     "execution_count": 119,
     "metadata": {},
     "output_type": "execute_result"
    }
   ],
   "source": [
    "neural_net_predict(weights[0], weights[1], train_input_normalized, digits_training.iloc[:,-1].to_numpy())"
   ],
   "metadata": {
    "collapsed": false,
    "pycharm": {
     "name": "#%%\n"
    }
   }
  },
  {
   "cell_type": "code",
   "execution_count": 120,
   "outputs": [
    {
     "data": {
      "text/plain": "0.9666110183639399"
     },
     "execution_count": 120,
     "metadata": {},
     "output_type": "execute_result"
    }
   ],
   "source": [
    "neural_net_predict(weights[0], weights[1], test_input_normalized, digits_testing.iloc[:,-1].to_numpy())\n"
   ],
   "metadata": {
    "collapsed": false,
    "pycharm": {
     "name": "#%%\n"
    }
   }
  }
 ],
 "metadata": {
  "kernelspec": {
   "name": "pycharm-88dd0e96",
   "language": "python",
   "display_name": "PyCharm (GVSU-CIS678)"
  },
  "language_info": {
   "codemirror_mode": {
    "name": "ipython",
    "version": 2
   },
   "file_extension": ".py",
   "mimetype": "text/x-python",
   "name": "python",
   "nbconvert_exporter": "python",
   "pygments_lexer": "ipython2",
   "version": "2.7.6"
  }
 },
 "nbformat": 4,
 "nbformat_minor": 0
}