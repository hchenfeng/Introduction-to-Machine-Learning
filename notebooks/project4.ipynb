{
 "cells": [
  {
   "cell_type": "markdown",
   "metadata": {
    "pycharm": {
     "name": "#%% md\n"
    }
   },
   "source": [
    "# Introduction\n",
    "\n",
    "In this assignment, we practice implementing a basic form of neural network algorithm. We are provided with two sets of data, one on handwritten digits recognition, the other is the usual fishing data. The focus is on the first. The fishing data is presented as an exercise on categorical data."
   ]
  },
  {
   "cell_type": "markdown",
   "metadata": {
    "pycharm": {
     "name": "#%% md\n"
    }
   },
   "source": [
    "# Data\n",
    "\n",
    "The handwritten digits datasets seems to be a variation on a subset the MNIST data. Instead of the 28 by 28 pixel grid, we have a compressed 8 by 8 grid in our handwritten digits datasets. There are 3823 rows in the training set and 1797 in testing, which are rather small datasets (bigger than the fishing sets, but still very small) for neural networks. That makes performance less of a concern. However, depending on implementation details, large numbers of matrix operations can still slow down our training."
   ]
  },
  {
   "cell_type": "code",
   "execution_count": 1,
   "metadata": {
    "collapsed": true
   },
   "outputs": [
    {
     "name": "stderr",
     "output_type": "stream",
     "text": [
      "<ipython-input-1-89c483734f3d>:9: SettingWithCopyWarning: \n",
      "A value is trying to be set on a copy of a slice from a DataFrame.\n",
      "Try using .loc[row_indexer,col_indexer] = value instead\n",
      "\n",
      "See the caveats in the documentation: https://pandas.pydata.org/pandas-docs/stable/user_guide/indexing.html#returning-a-view-versus-a-copy\n",
      "  fishing_testing['Fishing'] = ['Yes', 'No']\n"
     ]
    }
   ],
   "source": [
    "import pandas as pd\n",
    "import numpy as np\n",
    "\n",
    "# import data\n",
    "fishing = pd.read_csv(\"../data/fishing(1).data\", header=None, names=('Wind', 'Air', 'Water', 'Sky', 'Fishing'))\n",
    "fishing_training = fishing.iloc[:14,:]\n",
    "fishing_testing = fishing.iloc[15:,:]\n",
    "# outcome values are assigned based on the tutorial on decision tree\n",
    "fishing_testing['Fishing'] = ['Yes', 'No']\n",
    "digits_training = pd.read_csv(\"../data/digits-train.data\", header=None)\n",
    "digits_testing = pd.read_csv(\"../data/digits-test.data\", header=None)"
   ]
  },
  {
   "cell_type": "markdown",
   "metadata": {
    "pycharm": {
     "name": "#%% md\n"
    }
   },
   "source": [
    "One thing to note is, in the above example, changing the values in fishing_testing changes the values in fishing as well, because iloc actually returns references, not new objects."
   ]
  },
  {
   "cell_type": "markdown",
   "metadata": {
    "pycharm": {
     "name": "#%% md\n"
    }
   },
   "source": [
    "# implementation"
   ]
  },
  {
   "cell_type": "markdown",
   "metadata": {
    "pycharm": {
     "name": "#%% md\n"
    }
   },
   "source": [
    "Although optimization is not part of the goal for this assignment, experiment was attempted using the @njit decorator in the Numba package, which translates decorated python code into fast machine code using LLVM.\n",
    "\n",
    "Results show significant improvement when compared with the version not decorated with @njit. Still, the usual caution applies: vector operations are preferred over loops. Replacing a loop with np.out() in the update_weights() function significantly improved the runtime of the current model.\n",
    "\n",
    "In the current implementation of training, 20 epochs takes about a bit over 1s to run."
   ]
  },
  {
   "cell_type": "code",
   "execution_count": 2,
   "metadata": {
    "pycharm": {
     "name": "#%%\n"
    }
   },
   "outputs": [],
   "source": [
    "# njit instructs that the decorated function be compiled so that it runs without involving the Python interpreter\n",
    "# prange parallels loops\n",
    "from numba import njit, prange\n",
    "\n",
    "@njit(parallel=True)\n",
    "def min_max_normalize(narr):\n",
    "    # initialize array of size narr transposed\n",
    "    new_narr = np.full((narr.shape[1], narr.shape[0]), 0.0)\n",
    "    # transpose input array\n",
    "    narr = narr.T\n",
    "\n",
    "    for i in prange(narr.shape[0]):\n",
    "        min_val = np.min(narr[i])\n",
    "        max_val = np.max(narr[i])\n",
    "        diff = max_val - min_val\n",
    "        for j in prange(narr.shape[1]):\n",
    "            if diff == 0:\n",
    "                # normalize to 0 when values are the same\n",
    "                new_narr[i,j] = 0\n",
    "            else:\n",
    "                new_narr[i,j] = (narr[i,j] - min_val)/diff\n",
    "\n",
    "    return new_narr.T"
   ]
  },
  {
   "cell_type": "code",
   "execution_count": 3,
   "metadata": {
    "pycharm": {
     "name": "#%%\n"
    }
   },
   "outputs": [],
   "source": [
    "@njit\n",
    "def get_small_rand(length):\n",
    "    # get random numbers of length length, between -0.001 and 0.001\n",
    "    return np.random.uniform(-0.001, 0.001, size=(length,))\n",
    "\n",
    "# activation functions\n",
    "\n",
    "@njit\n",
    "def get_sum_of_prod(vec, weights):\n",
    "    # ascontiguousarray is supposed to speed up matrix operations\n",
    "    vec = np.ascontiguousarray(vec)\n",
    "    weights = np.ascontiguousarray(weights)\n",
    "    return np.dot(vec, weights)\n",
    "\n",
    "@njit\n",
    "def activation_binary_sigmoid(sop):\n",
    "    return 1 / (1 + np.exp(-sop))\n",
    "\n",
    "@njit\n",
    "def activation_softmax(sop):\n",
    "    # sop - np.max(sop) is intended to make softmax more stable, less likely to return NANs\n",
    "    ex = np.exp(sop - np.max(sop))\n",
    "    return ex/np.sum(ex)"
   ]
  },
  {
   "cell_type": "code",
   "execution_count": 4,
   "metadata": {
    "pycharm": {
     "name": "#%%\n"
    }
   },
   "outputs": [],
   "source": [
    "@njit\n",
    "def feed_forward_to_hidden(vec, weights):\n",
    "    sop = get_sum_of_prod(vec, weights)\n",
    "    # use binary sigmoid for activation in the hidden layer\n",
    "    out = activation_binary_sigmoid(sop)\n",
    "    return out\n",
    "\n",
    "@njit\n",
    "def feed_forward_to_output(vec, weights):\n",
    "    sop = get_sum_of_prod(vec, weights)\n",
    "    # use softmax for activation in the output layer\n",
    "    out = activation_softmax(sop)\n",
    "    return out"
   ]
  },
  {
   "cell_type": "code",
   "execution_count": 5,
   "metadata": {
    "pycharm": {
     "name": "#%%\n"
    }
   },
   "outputs": [],
   "source": [
    "@njit\n",
    "def get_rmse(t_vec, y_vec):\n",
    "    # use root mean squared error as one error measurement\n",
    "    return np.sqrt(np.sum(np.square(np.subtract(t_vec, y_vec))))/len(t_vec)\n",
    "\n",
    "@njit\n",
    "def get_cross_entropy_loss(t_vec, y_vec):\n",
    "    # use cross entropy/log loss as another error measurement\n",
    "    return -np.dot(t_vec, np.log(y_vec))\n",
    "\n",
    "# @njit\n",
    "# def get_sigmoid_loss(t_vec, y_vec):\n",
    "#     d = y_vec * (1 - y_vec)\n",
    "#     e = t_vec - y_vec\n",
    "#     return d * e\n",
    "\n",
    "@njit\n",
    "def get_out_error(t_vec, y_vec):\n",
    "    # derivative of cross entropy loss\n",
    "    return  t_vec - y_vec\n",
    "\n",
    "@njit\n",
    "def get_hidden_error(h, w_vec, e_vec):\n",
    "    # derivative of sigmoid\n",
    "    h_d = h * (1 - h)\n",
    "    w_e_dot = np.dot(w_vec, e_vec)\n",
    "    return h_d * w_e_dot"
   ]
  },
  {
   "cell_type": "code",
   "execution_count": 6,
   "metadata": {
    "pycharm": {
     "name": "#%%\n"
    }
   },
   "outputs": [],
   "source": [
    "@njit\n",
    "def update_weights(error, weights, outs, learning_rate):\n",
    "    temp = learning_rate * error\n",
    "    adjustments = np.outer(outs, temp)\n",
    "    return weights + adjustments"
   ]
  },
  {
   "cell_type": "code",
   "execution_count": 7,
   "metadata": {
    "pycharm": {
     "name": "#%%\n"
    }
   },
   "outputs": [],
   "source": [
    "@njit\n",
    "def train_neural_net(X, Y, epoch=1, number_of_hidden_nodes=50, learning_rate=0.05):\n",
    "\n",
    "    input_n_row = X.shape[0]\n",
    "    input_n_col = X.shape[1]\n",
    "    # create array of 1s\n",
    "    temp_arr = np.array(([1.0] * input_n_row))\n",
    "    # prepend 1 to each instance\n",
    "    new_input = np.concatenate((temp_arr.reshape(1,input_n_row), X.T)).T\n",
    "\n",
    "    # use random number between -.001 and .001 as input weights\n",
    "    # 65 because 64 inputs and 1 bias\n",
    "    # 50 because 50 hidden nodes\n",
    "    input_weights = np.reshape(get_small_rand((input_n_col + 1) * number_of_hidden_nodes), (input_n_col + 1, number_of_hidden_nodes))\n",
    "\n",
    "    # similarly for hidden layer weights\n",
    "    # 51 because 50 nodes (2/3 of the sum of input and output nodes) and 1 more for bias\n",
    "    # 10 because 10 output nodes\n",
    "    hidden_weights = np.reshape(get_small_rand((number_of_hidden_nodes + 1) * Y.shape[1]), (number_of_hidden_nodes + 1, Y.shape[1]))\n",
    "\n",
    "    # initialize arrays for rmse and cross entropy error\n",
    "    rmse = np.zeros((epoch,))\n",
    "    ce = np.zeros((epoch,))\n",
    "\n",
    "    for i in range(epoch):\n",
    "        # this may not be the right way to do it (should've assigned length as well)\n",
    "        # but the intention is to assign memory space for an array\n",
    "        # and then update values\n",
    "        # which is supposed to be faster than appending\n",
    "        target = np.array([0.])\n",
    "        y_hat = np.array([0.])\n",
    "        for row in range(X.shape[0]):\n",
    "            # outputs at hidden nodes\n",
    "            hidden_outs = feed_forward_to_hidden(new_input[row], input_weights)\n",
    "            # prepend 1 as bias\n",
    "            new_hidden_outs = np.concatenate((np.array([1.0]), hidden_outs))\n",
    "            # current output\n",
    "            y_hat = feed_forward_to_output(new_hidden_outs, hidden_weights)\n",
    "            # current target\n",
    "            target = Y[row]\n",
    "            # output error\n",
    "            output_error = get_out_error(target, y_hat)\n",
    "            # hidden error\n",
    "            hidden_error = get_hidden_error(hidden_outs, hidden_weights[1:], output_error)\n",
    "            # update hidden weights\n",
    "            new_hidden_weights = update_weights(output_error,hidden_weights, new_hidden_outs, learning_rate)\n",
    "            hidden_weights = new_hidden_weights\n",
    "            # update input weights\n",
    "            new_input_weights = update_weights(hidden_error,input_weights, new_input[row], learning_rate)\n",
    "            input_weights = new_input_weights\n",
    "        # current rmse and cross entropy error\n",
    "        current_rmse = get_rmse(target, y_hat)\n",
    "        current_ce = get_cross_entropy_loss(target, y_hat)\n",
    "        rmse[i] = current_rmse\n",
    "        ce[i] = current_ce\n",
    "\n",
    "    return input_weights, hidden_weights, rmse, ce"
   ]
  },
  {
   "cell_type": "markdown",
   "metadata": {},
   "source": [
    "Numba translation of Python code needs to convert dynamic types to their static equivalents. To avoid potential problems of type inference, we convert data types of all sets to float. We also normalize feature variables using min_max."
   ]
  },
  {
   "cell_type": "code",
   "execution_count": 8,
   "metadata": {
    "pycharm": {
     "name": "#%%\n"
    }
   },
   "outputs": [],
   "source": [
    "train_input = digits_training.iloc[:,:-1].to_numpy(dtype=float)\n",
    "train_output = pd.get_dummies(digits_training.iloc[:,-1]).to_numpy(dtype=float)\n",
    "train_input_normalized = min_max_normalize(train_input)\n",
    "\n",
    "test_input = digits_testing.iloc[:,:-1].to_numpy(dtype=float)\n",
    "test_output = pd.get_dummies(digits_testing.iloc[:,-1]).to_numpy(dtype=float)\n",
    "test_input_normalized = min_max_normalize(test_input)"
   ]
  },
  {
   "cell_type": "code",
   "execution_count": 9,
   "metadata": {
    "pycharm": {
     "name": "#%%\n"
    }
   },
   "outputs": [
    {
     "name": "stdout",
     "output_type": "stream",
     "text": [
      "1.33 s ± 9.66 ms per loop (mean ± std. dev. of 7 runs, 1 loop each)\n"
     ]
    }
   ],
   "source": [
    "%timeit train_neural_net(train_input_normalized, train_output, epoch=50)"
   ]
  },
  {
   "cell_type": "markdown",
   "metadata": {
    "pycharm": {
     "name": "#%% md\n"
    }
   },
   "source": [
    "As shown above, 20 epochs training takes a bit over 1 second."
   ]
  },
  {
   "cell_type": "code",
   "execution_count": 10,
   "metadata": {
    "pycharm": {
     "name": "#%%\n"
    }
   },
   "outputs": [
    {
     "data": {
      "text/plain": "<AxesSubplot:title={'center':'Cross Entropy Loss by Epochs'}>"
     },
     "execution_count": 10,
     "metadata": {},
     "output_type": "execute_result"
    },
    {
     "data": {
      "text/plain": "<Figure size 432x288 with 1 Axes>",
      "image/png": "[encoded data removed]"
     },
     "metadata": {
      "needs_background": "light"
     },
     "output_type": "display_data"
    },
    {
     "data": {
      "text/plain": "<Figure size 432x288 with 1 Axes>",
      "image/png": "[encoded data removed]"
     },
     "metadata": {
      "needs_background": "light"
     },
     "output_type": "display_data"
    }
   ],
   "source": [
    "test = train_neural_net(train_input_normalized, train_output, epoch=10)\n",
    "\n",
    "pd.DataFrame(test[2]).plot(title='RMSE by Epochs', legend=None, xticks=list(range(10)))\n",
    "\n",
    "pd.DataFrame(test[3]).plot(title='Cross Entropy Loss by Epochs', legend=None, xticks=list(range(10)))"
   ]
  },
  {
   "cell_type": "markdown",
   "metadata": {
    "pycharm": {
     "name": "#%% md\n"
    }
   },
   "source": [
    "As we could see, both measurements of errors flatten after 4 or 5 epochs."
   ]
  },
  {
   "cell_type": "code",
   "execution_count": 11,
   "metadata": {
    "pycharm": {
     "name": "#%%\n"
    }
   },
   "outputs": [],
   "source": [
    "def neural_net_predict(input_ws, hidden_ws, X, Y):\n",
    "    # number of rows in the input\n",
    "    input_n_row = X.shape[0]\n",
    "    # initialize bias\n",
    "    temp_arr = np.array(([1.0] * input_n_row))\n",
    "    # add bias to input\n",
    "    new_X = np.concatenate((temp_arr.reshape(1,input_n_row), X.T)).T\n",
    "    # get hidden output\n",
    "    hidden_outs = feed_forward_to_hidden(new_X, input_ws)\n",
    "    # add bias\n",
    "    new_hidden_outs = np.concatenate((np.array([1.0]*input_n_row).reshape(1,input_n_row), hidden_outs.T)).T\n",
    "    # get final output\n",
    "    outs = feed_forward_to_output(new_hidden_outs, hidden_ws)\n",
    "    # get prediction with max prob\n",
    "    preds = outs.argmax(1)\n",
    "    # return accuracy\n",
    "    return np.sum(preds == Y) / input_n_row"
   ]
  },
  {
   "cell_type": "code",
   "execution_count": 12,
   "metadata": {
    "pycharm": {
     "name": "#%%\n"
    }
   },
   "outputs": [
    {
     "name": "stdout",
     "output_type": "stream",
     "text": [
      "Training Accuracy: 0.9806434737117447\n",
      "Testing Accuracy: 0.9465776293823038\n"
     ]
    }
   ],
   "source": [
    "weights = train_neural_net(train_input_normalized, train_output, epoch=10)\n",
    "\n",
    "accuracy_training = neural_net_predict(weights[0], weights[1], train_input_normalized, digits_training.iloc[:,-1].to_numpy())\n",
    "print(\"Training Accuracy: \" + str(accuracy_training))\n",
    "accuracy_testing = neural_net_predict(weights[0], weights[1], test_input_normalized, digits_testing.iloc[:,-1].to_numpy())\n",
    "print(\"Testing Accuracy: \" + str(accuracy_testing))"
   ]
  },
  {
   "cell_type": "markdown",
   "metadata": {
    "pycharm": {
     "name": "#%% md\n"
    }
   },
   "source": [
    "With 10 epochs, we already get an accuracy of 98% for training and 95% for testing."
   ]
  },
  {
   "cell_type": "code",
   "execution_count": 13,
   "metadata": {
    "pycharm": {
     "name": "#%%\n"
    }
   },
   "outputs": [
    {
     "name": "stdout",
     "output_type": "stream",
     "text": [
      "Training Accuracy: 1.0\n",
      "Testing Accuracy: 0.9616026711185309\n"
     ]
    }
   ],
   "source": [
    "weights = train_neural_net(train_input_normalized, train_output, epoch=100)\n",
    "\n",
    "accuracy_training = neural_net_predict(weights[0], weights[1], train_input_normalized, digits_training.iloc[:,-1].to_numpy())\n",
    "print(\"Training Accuracy: \" + str(accuracy_training))\n",
    "accuracy_testing = neural_net_predict(weights[0], weights[1], test_input_normalized, digits_testing.iloc[:,-1].to_numpy())\n",
    "print(\"Testing Accuracy: \" + str(accuracy_testing))"
   ]
  },
  {
   "cell_type": "markdown",
   "metadata": {
    "pycharm": {
     "name": "#%% md\n"
    }
   },
   "source": [
    "Increasing the number of epochs to 100 does not seem to improve testing accuracy by a lot. However, the base testing accuracy is already high enough, so it is not surprising that improving beyond that is difficult.\n",
    "\n",
    "Next, we use the classifier on the fishing data.\n",
    "\n",
    "Since there is only a few instances in the fishing dataset, we encode the training and testing sets at the same time to avoid the case where the testing set contains category values not present in the training set. In fact, if we encode the training set and the testing set separately, we may not even be able to make correct predictions in principle, as one value for wind (light) only appears in testing."
   ]
  },
  {
   "cell_type": "code",
   "execution_count": 14,
   "metadata": {
    "pycharm": {
     "name": "#%%\n"
    }
   },
   "outputs": [],
   "source": [
    "fishing_train = pd.get_dummies(fishing.drop(14)).to_numpy(dtype=float)[:14]\n",
    "fishing_train_input = fishing_train.T[:11].T\n",
    "fishing_train_output = fishing_train.T[11:]\n",
    "\n",
    "fishing_test = pd.get_dummies(fishing.drop(14)).to_numpy(dtype=float)[14:]\n",
    "fishing_test_input = fishing_test.T[:11].T\n",
    "fishing_test_output = fishing_test.T[11:]"
   ]
  },
  {
   "cell_type": "code",
   "execution_count": 15,
   "metadata": {
    "pycharm": {
     "name": "#%%\n"
    }
   },
   "outputs": [
    {
     "name": "stderr",
     "output_type": "stream",
     "text": [
      "<ipython-input-7-5317e5ead33d>:53: NumbaPerformanceWarning: np.dot() is faster on contiguous arrays, called on (array(float64, 1d, A), array(float64, 1d, C))\n",
      "  current_ce = get_cross_entropy_loss(target, y_hat)\n"
     ]
    },
    {
     "data": {
      "text/plain": "<AxesSubplot:title={'center':'Cross Entropy Loss by Epochs'}>"
     },
     "execution_count": 15,
     "metadata": {},
     "output_type": "execute_result"
    },
    {
     "data": {
      "text/plain": "<Figure size 432x288 with 1 Axes>",
      "image/png": "[encoded data removed]"
     },
     "metadata": {
      "needs_background": "light"
     },
     "output_type": "display_data"
    },
    {
     "data": {
      "text/plain": "<Figure size 432x288 with 1 Axes>",
      "image/png": "[encoded data removed]"
     },
     "metadata": {
      "needs_background": "light"
     },
     "output_type": "display_data"
    }
   ],
   "source": [
    "fishing_weights = train_neural_net(fishing_train_input, fishing_train_output.T, epoch=200)\n",
    "\n",
    "pd.DataFrame(fishing_weights[2]).plot(title='RMSE by Epochs', legend=None)\n",
    "pd.DataFrame(fishing_weights[3]).plot(title='Cross Entropy Loss by Epochs', legend=None)"
   ]
  },
  {
   "cell_type": "markdown",
   "metadata": {
    "pycharm": {
     "name": "#%% md\n"
    }
   },
   "source": [
    "From the error plots, we should expect good prediction results at closing to 200 epochs."
   ]
  },
  {
   "cell_type": "code",
   "execution_count": 16,
   "metadata": {
    "pycharm": {
     "name": "#%%\n"
    }
   },
   "outputs": [
    {
     "name": "stdout",
     "output_type": "stream",
     "text": [
      "Training Accuracy: 1.0\n",
      "Testing Accuracy: 1.0\n"
     ]
    }
   ],
   "source": [
    "fishing_train_accuracy = neural_net_predict(fishing_weights[0], fishing_weights[1], fishing_train_input, fishing_train_output[1])\n",
    "print(\"Training Accuracy: \" + str(fishing_train_accuracy))\n",
    "fishing_test_accuracy = neural_net_predict(fishing_weights[0], fishing_weights[1], fishing_test_input, fishing_test_output[1])\n",
    "print(\"Testing Accuracy: \" + str(fishing_test_accuracy))"
   ]
  },
  {
   "cell_type": "markdown",
   "metadata": {
    "pycharm": {
     "name": "#%% md\n"
    }
   },
   "source": [
    "# Experiments\n",
    "\n",
    "Having verified our implementation of a neural network classifier works, we now turn to an experiment."
   ]
  },
  {
   "cell_type": "markdown",
   "metadata": {
    "pycharm": {
     "name": "#%% md\n"
    }
   },
   "source": [
    "To apply the neural network classifier on the fishing datasets, we need to convert the categorical data into numeric. Two similar encoding methods are worth mentioning: one-hot encoding and dummy encoding. One-hot encoding encodes each categorical value as a numeric value, whereas dummy encoding does the same except the numeric encoding is always one value less than the actually number of values in a category. See the difference below."
   ]
  },
  {
   "cell_type": "code",
   "execution_count": 17,
   "metadata": {
    "pycharm": {
     "name": "#%%\n"
    }
   },
   "outputs": [
    {
     "data": {
      "text/plain": "    Light  Strong  Weak\n0       0       1     0\n1       0       0     1\n2       0       1     0\n3       0       1     0\n4       0       1     0\n5       0       0     1\n6       0       0     1\n7       0       1     0\n8       0       1     0\n9       0       1     0\n10      0       0     1\n11      0       0     1\n12      0       1     0\n13      0       0     1\n15      0       1     0\n16      1       0     0",
      "text/html": "<div>\n<style scoped>\n    .dataframe tbody tr th:only-of-type {\n        vertical-align: middle;\n    }\n\n    .dataframe tbody tr th {\n        vertical-align: top;\n    }\n\n    .dataframe thead th {\n        text-align: right;\n    }\n</style>\n<table border=\"1\" class=\"dataframe\">\n  <thead>\n    <tr style=\"text-align: right;\">\n      <th></th>\n      <th>Light</th>\n      <th>Strong</th>\n      <th>Weak</th>\n    </tr>\n  </thead>\n  <tbody>\n    <tr>\n      <th>0</th>\n      <td>0</td>\n      <td>1</td>\n      <td>0</td>\n    </tr>\n    <tr>\n      <th>1</th>\n      <td>0</td>\n      <td>0</td>\n      <td>1</td>\n    </tr>\n    <tr>\n      <th>2</th>\n      <td>0</td>\n      <td>1</td>\n      <td>0</td>\n    </tr>\n    <tr>\n      <th>3</th>\n      <td>0</td>\n      <td>1</td>\n      <td>0</td>\n    </tr>\n    <tr>\n      <th>4</th>\n      <td>0</td>\n      <td>1</td>\n      <td>0</td>\n    </tr>\n    <tr>\n      <th>5</th>\n      <td>0</td>\n      <td>0</td>\n      <td>1</td>\n    </tr>\n    <tr>\n      <th>6</th>\n      <td>0</td>\n      <td>0</td>\n      <td>1</td>\n    </tr>\n    <tr>\n      <th>7</th>\n      <td>0</td>\n      <td>1</td>\n      <td>0</td>\n    </tr>\n    <tr>\n      <th>8</th>\n      <td>0</td>\n      <td>1</td>\n      <td>0</td>\n    </tr>\n    <tr>\n      <th>9</th>\n      <td>0</td>\n      <td>1</td>\n      <td>0</td>\n    </tr>\n    <tr>\n      <th>10</th>\n      <td>0</td>\n      <td>0</td>\n      <td>1</td>\n    </tr>\n    <tr>\n      <th>11</th>\n      <td>0</td>\n      <td>0</td>\n      <td>1</td>\n    </tr>\n    <tr>\n      <th>12</th>\n      <td>0</td>\n      <td>1</td>\n      <td>0</td>\n    </tr>\n    <tr>\n      <th>13</th>\n      <td>0</td>\n      <td>0</td>\n      <td>1</td>\n    </tr>\n    <tr>\n      <th>15</th>\n      <td>0</td>\n      <td>1</td>\n      <td>0</td>\n    </tr>\n    <tr>\n      <th>16</th>\n      <td>1</td>\n      <td>0</td>\n      <td>0</td>\n    </tr>\n  </tbody>\n</table>\n</div>"
     },
     "execution_count": 17,
     "metadata": {},
     "output_type": "execute_result"
    }
   ],
   "source": [
    "pd.get_dummies(fishing.drop(14)['Wind'])"
   ]
  },
  {
   "cell_type": "code",
   "execution_count": 18,
   "metadata": {
    "pycharm": {
     "name": "#%%\n"
    }
   },
   "outputs": [
    {
     "data": {
      "text/plain": "    Strong  Weak\n0        1     0\n1        0     1\n2        1     0\n3        1     0\n4        1     0\n5        0     1\n6        0     1\n7        1     0\n8        1     0\n9        1     0\n10       0     1\n11       0     1\n12       1     0\n13       0     1\n15       1     0\n16       0     0",
      "text/html": "<div>\n<style scoped>\n    .dataframe tbody tr th:only-of-type {\n        vertical-align: middle;\n    }\n\n    .dataframe tbody tr th {\n        vertical-align: top;\n    }\n\n    .dataframe thead th {\n        text-align: right;\n    }\n</style>\n<table border=\"1\" class=\"dataframe\">\n  <thead>\n    <tr style=\"text-align: right;\">\n      <th></th>\n      <th>Strong</th>\n      <th>Weak</th>\n    </tr>\n  </thead>\n  <tbody>\n    <tr>\n      <th>0</th>\n      <td>1</td>\n      <td>0</td>\n    </tr>\n    <tr>\n      <th>1</th>\n      <td>0</td>\n      <td>1</td>\n    </tr>\n    <tr>\n      <th>2</th>\n      <td>1</td>\n      <td>0</td>\n    </tr>\n    <tr>\n      <th>3</th>\n      <td>1</td>\n      <td>0</td>\n    </tr>\n    <tr>\n      <th>4</th>\n      <td>1</td>\n      <td>0</td>\n    </tr>\n    <tr>\n      <th>5</th>\n      <td>0</td>\n      <td>1</td>\n    </tr>\n    <tr>\n      <th>6</th>\n      <td>0</td>\n      <td>1</td>\n    </tr>\n    <tr>\n      <th>7</th>\n      <td>1</td>\n      <td>0</td>\n    </tr>\n    <tr>\n      <th>8</th>\n      <td>1</td>\n      <td>0</td>\n    </tr>\n    <tr>\n      <th>9</th>\n      <td>1</td>\n      <td>0</td>\n    </tr>\n    <tr>\n      <th>10</th>\n      <td>0</td>\n      <td>1</td>\n    </tr>\n    <tr>\n      <th>11</th>\n      <td>0</td>\n      <td>1</td>\n    </tr>\n    <tr>\n      <th>12</th>\n      <td>1</td>\n      <td>0</td>\n    </tr>\n    <tr>\n      <th>13</th>\n      <td>0</td>\n      <td>1</td>\n    </tr>\n    <tr>\n      <th>15</th>\n      <td>1</td>\n      <td>0</td>\n    </tr>\n    <tr>\n      <th>16</th>\n      <td>0</td>\n      <td>0</td>\n    </tr>\n  </tbody>\n</table>\n</div>"
     },
     "execution_count": 18,
     "metadata": {},
     "output_type": "execute_result"
    }
   ],
   "source": [
    "pd.get_dummies(fishing.drop(14)['Wind'], drop_first=True)"
   ]
  },
  {
   "cell_type": "code",
   "execution_count": 19,
   "metadata": {
    "pycharm": {
     "name": "#%%\n"
    }
   },
   "outputs": [
    {
     "name": "stdout",
     "output_type": "stream",
     "text": [
      "Training Accuracy: 0.42857142857142855\n",
      "Testing Accuracy: 0.5\n"
     ]
    },
    {
     "data": {
      "text/plain": "<Figure size 432x288 with 1 Axes>",
      "image/png": "[encoded data removed]"
     },
     "metadata": {
      "needs_background": "light"
     },
     "output_type": "display_data"
    },
    {
     "data": {
      "text/plain": "<Figure size 432x288 with 1 Axes>",
      "image/png": "[encoded data removed]"
     },
     "metadata": {
      "needs_background": "light"
     },
     "output_type": "display_data"
    }
   ],
   "source": [
    "fishing_train = pd.get_dummies(fishing.drop(14), drop_first=True).to_numpy(dtype=float)[:14]\n",
    "fishing_train_input = fishing_train.T[:6].T\n",
    "fishing_train_output = fishing_train.T[6:]\n",
    "\n",
    "fishing_test = pd.get_dummies(fishing.drop(14), drop_first=True).to_numpy(dtype=float)[14:]\n",
    "fishing_test_input = fishing_test.T[:6].T\n",
    "fishing_test_output = fishing_test.T[6:]\n",
    "\n",
    "fishing_weights = train_neural_net(fishing_train_input, fishing_train_output.T, epoch=200)\n",
    "\n",
    "pd.DataFrame(fishing_weights[2]).plot(title='RMSE by Epochs', legend=None)\n",
    "pd.DataFrame(fishing_weights[3]).plot(title='Cross Entropy Loss by Epochs', legend=None)\n",
    "\n",
    "fishing_train_accuracy = neural_net_predict(fishing_weights[0], fishing_weights[1], fishing_train_input, fishing_train_output[1])\n",
    "print(\"Training Accuracy: \" + str(fishing_train_accuracy))\n",
    "fishing_test_accuracy = neural_net_predict(fishing_weights[0], fishing_weights[1], fishing_test_input, fishing_test_output[1])\n",
    "print(\"Testing Accuracy: \" + str(fishing_test_accuracy))"
   ]
  },
  {
   "cell_type": "markdown",
   "metadata": {
    "pycharm": {
     "name": "#%% md\n"
    }
   },
   "source": [
    "In our case, it seems using dummy encoding does not seem to help with the data we are working with, or there is some problem with the implementation presented here."
   ]
  }
 ],
 "metadata": {
  "authors": [
   {
    "name": "Chenfeng (Aaron) Hao"
   }
  ],
  "kernelspec": {
   "display_name": "Python 3",
   "language": "python",
   "name": "python3"
  },
  "language_info": {
   "codemirror_mode": {
    "name": "ipython",
    "version": 3
   },
   "file_extension": ".py",
   "mimetype": "text/x-python",
   "name": "python",
   "nbconvert_exporter": "python",
   "pygments_lexer": "ipython3",
   "version": "3.8.10"
  }
 },
 "nbformat": 4,
 "nbformat_minor": 1
}