{
 "cells": [
  {
   "cell_type": "code",
   "execution_count": 50,
   "metadata": {
    "collapsed": true
   },
   "outputs": [
    {
     "name": "stdout",
     "output_type": "stream",
     "text": [
      "X wins:  0 %\n",
      "O wins:  100 %\n",
      "Draw  :  0 %\n"
     ]
    }
   ],
   "source": [
    "#  Tic-Tac-Toe\n",
    "#  plays multiple random games; accumulates stats\n",
    "#  gw\n",
    "\n",
    "import random\n",
    "\n",
    "# global\n",
    "Board = [[' ', ' ', ' '],\n",
    "         [' ', ' ', ' '],\n",
    "         [' ', ' ', ' ']]\n",
    "\n",
    "\n",
    "def resetBoard():\n",
    "    global Board\n",
    "    Board = [[' ', ' ', ' '],\n",
    "             [' ', ' ', ' '],\n",
    "             [' ', ' ', ' ']]\n",
    "\n",
    "\n",
    "# display game state\n",
    "def printBoard():\n",
    "    print(Board[0][0], ' | ', Board[0][1], ' | ', Board[0][2])\n",
    "    print('-------------')\n",
    "    print(Board[1][0], ' | ', Board[1][1], ' | ', Board[1][2])\n",
    "    print('-------------')\n",
    "    print(Board[2][0], ' | ', Board[2][1], ' | ', Board[2][2])\n",
    "    print()\n",
    "\n",
    "\n",
    "# choose random legal move\n",
    "def doMove():\n",
    "    while True:\n",
    "        x = random.randrange(3)\n",
    "        y = random.randrange(3)\n",
    "        if Board[x][y] == ' ':\n",
    "            break\n",
    "    return x, y\n",
    "\n",
    "\n",
    "# test game status\n",
    "def gameWon(piece):\n",
    "    if (((Board[0][0] == piece) and (Board[0][1] == piece) and (Board[0][2] == piece))\n",
    "            or ((Board[1][0] == piece) and (Board[1][1] == piece) and (Board[1][2] == piece))\n",
    "            or ((Board[2][0] == piece) and (Board[2][1] == piece) and (Board[2][2] == piece))\n",
    "            or ((Board[0][0] == piece) and (Board[1][0] == piece) and (Board[2][0] == piece))\n",
    "            or ((Board[0][1] == piece) and (Board[1][1] == piece) and (Board[2][1] == piece))\n",
    "            or ((Board[0][2] == piece) and (Board[1][2] == piece) and (Board[2][2] == piece))\n",
    "            or ((Board[0][0] == piece) and (Board[1][1] == piece) and (Board[2][2] == piece))\n",
    "            or ((Board[0][2] == piece) and (Board[1][1] == piece) and (Board[2][0] == piece))):\n",
    "        return True\n",
    "    else:\n",
    "        return False\n",
    "\n",
    "\n",
    "# run a whole bunch of games\n",
    "# note: X always goes first\n",
    "Xcount = 0\n",
    "Ocount = 0\n",
    "Drawcount = 0\n",
    "# games = int(input('#games? '))\n",
    "games = 1\n",
    "for i in range(games):\n",
    "    resetBoard()\n",
    "    numMoves = 0\n",
    "    done = False\n",
    "    while not done and (numMoves < 9):\n",
    "        numMoves += 1\n",
    "        if (numMoves % 2) == 1:\n",
    "            piece = 'X'\n",
    "        else:\n",
    "            piece = 'O'\n",
    "        x, y = doMove()\n",
    "        Board[x][y] = piece\n",
    "        if gameWon(piece):\n",
    "            done = True\n",
    "            if piece == 'X':\n",
    "                Xcount += 1\n",
    "            else:\n",
    "                Ocount += 1\n",
    "        if (numMoves == 9) and not done:\n",
    "            Drawcount += 1\n",
    "\n",
    "print('X wins: ', round(100.0 * Xcount / games), '%')\n",
    "print('O wins: ', round(100.0 * Ocount / games), '%')\n",
    "print('Draw  : ', round(100.0 * Drawcount / games), '%')\n"
   ]
  },
  {
   "cell_type": "code",
   "execution_count": 56,
   "outputs": [
    {
     "data": {
      "text/plain": "\"[[' ', 'X', 'O'], ['X', 'O', 'O'], ['X', 'X', 'O']]\""
     },
     "execution_count": 56,
     "metadata": {},
     "output_type": "execute_result"
    }
   ],
   "source": [
    "str(Board)"
   ],
   "metadata": {
    "collapsed": false,
    "pycharm": {
     "name": "#%%\n"
    }
   }
  },
  {
   "cell_type": "code",
   "execution_count": null,
   "outputs": [],
   "source": [
    "import numpy as np\n",
    "\n"
   ],
   "metadata": {
    "collapsed": false,
    "pycharm": {
     "name": "#%%\n"
    }
   }
  },
  {
   "cell_type": "code",
   "execution_count": null,
   "outputs": [],
   "source": [
    "epsilon = 0.9\n",
    "discount_factor = 0.9\n",
    "learning_rate = 0.9\n",
    "\n",
    "win_reward = 1\n",
    "lose_reward = -1\n",
    "draw_reward = 0\n",
    "\n",
    "\n",
    "# initialize q-values as 0\n",
    "Q = [[]]\n",
    "\n",
    "for episode in range(10):\n",
    "    resetBoard()\n",
    "    numMoves = 0\n",
    "    done = False\n",
    "    states_history = []\n",
    "    while not done and (numMoves < 9):\n",
    "        numMoves += 1\n",
    "        if (numMoves % 2) == 1:\n",
    "            piece = 'X'\n",
    "        else:\n",
    "            piece = 'O'\n",
    "        x, y = doMove()\n",
    "        Board[x][y] = piece\n",
    "        states_history.append(str(Board))\n",
    "        if gameWon(piece):\n",
    "            done = True\n",
    "            if piece == 'X':\n",
    "                Xcount += 1\n",
    "                s2 = states_history[len(states_history)-1]\n",
    "                s1 = states_history[len(states_history)-1 - 2]\n",
    "                Q[s1, s2] =\n",
    "            else:\n",
    "                Ocount += 1\n",
    "\n",
    "        if (numMoves == 9) and not done:\n",
    "            Drawcount += 1"
   ],
   "metadata": {
    "collapsed": false,
    "pycharm": {
     "name": "#%%\n"
    }
   }
  },
  {
   "cell_type": "code",
   "execution_count": 70,
   "outputs": [
    {
     "data": {
      "text/plain": "array([[0., 0., 0., ..., 0., 0., 0.],\n       [0., 0., 0., ..., 0., 0., 0.],\n       [0., 0., 0., ..., 0., 0., 0.],\n       ...,\n       [0., 0., 0., ..., 0., 0., 0.],\n       [0., 0., 0., ..., 0., 0., 0.],\n       [0., 0., 0., ..., 0., 0., 0.]])"
     },
     "execution_count": 70,
     "metadata": {},
     "output_type": "execute_result"
    }
   ],
   "source": [
    "np.zeros([10000,10000])"
   ],
   "metadata": {
    "collapsed": false,
    "pycharm": {
     "name": "#%%\n"
    }
   }
  },
  {
   "cell_type": "code",
   "execution_count": 47,
   "outputs": [
    {
     "name": "stdout",
     "output_type": "stream",
     "text": [
      "------------------------------------------------\n",
      "Training episode: 0\n",
      "[[  0.   0.   0.   0.   0.   0.]\n",
      " [  0.   0.   0.   0.   0. 100.]\n",
      " [  0.   0.   0.   0.   0.   0.]\n",
      " [  0.   0.   0.   0.   0.   0.]\n",
      " [  0.   0.   0.   0.   0.   0.]\n",
      " [  0.   0.   0.   0.   0.   0.]]\n",
      "------------------------------------------------\n",
      "Training episode: 10\n",
      "[[  0.    0.    0.    0.   51.2   0. ]\n",
      " [  0.    0.    0.   64.    0.  100. ]\n",
      " [  0.    0.    0.   64.    0.    0. ]\n",
      " [  0.   80.    0.    0.   51.2   0. ]\n",
      " [  0.    0.    0.   64.    0.    0. ]\n",
      " [  0.    0.    0.    0.    0.    0. ]]\n",
      "------------------------------------------------\n",
      "Training episode: 20\n",
      "[[  0.    0.    0.    0.   51.2   0. ]\n",
      " [  0.    0.    0.   64.    0.  100. ]\n",
      " [  0.    0.    0.   64.    0.    0. ]\n",
      " [  0.   80.   51.2   0.   51.2   0. ]\n",
      " [  0.    0.    0.   64.    0.    0. ]\n",
      " [  0.    0.    0.    0.    0.    0. ]]\n",
      "------------------------------------------------\n",
      "Training episode: 30\n",
      "[[  0.    0.    0.    0.   51.2   0. ]\n",
      " [  0.    0.    0.   64.    0.  100. ]\n",
      " [  0.    0.    0.   64.    0.    0. ]\n",
      " [  0.   80.   51.2   0.   51.2   0. ]\n",
      " [  0.    0.    0.   64.    0.    0. ]\n",
      " [  0.    0.    0.    0.    0.    0. ]]\n",
      "------------------------------------------------\n",
      "Training episode: 40\n",
      "[[  0.    0.    0.    0.   80.    0. ]\n",
      " [  0.    0.    0.   64.    0.  100. ]\n",
      " [  0.    0.    0.   64.    0.    0. ]\n",
      " [  0.   80.   51.2   0.   80.    0. ]\n",
      " [ 64.    0.    0.   64.    0.  100. ]\n",
      " [  0.    0.    0.    0.    0.    0. ]]\n",
      "------------------------------------------------\n",
      "Training episode: 50\n",
      "[[  0.    0.    0.    0.   80.    0. ]\n",
      " [  0.    0.    0.   64.    0.  100. ]\n",
      " [  0.    0.    0.   64.    0.    0. ]\n",
      " [  0.   80.   51.2   0.   80.    0. ]\n",
      " [ 64.    0.    0.   64.    0.  100. ]\n",
      " [  0.    0.    0.    0.    0.    0. ]]\n",
      "------------------------------------------------\n",
      "Training episode: 60\n",
      "[[  0.    0.    0.    0.   80.    0. ]\n",
      " [  0.    0.    0.   64.    0.  100. ]\n",
      " [  0.    0.    0.   64.    0.    0. ]\n",
      " [  0.   80.   51.2   0.   80.    0. ]\n",
      " [ 64.    0.    0.   64.    0.  100. ]\n",
      " [  0.    0.    0.    0.    0.    0. ]]\n",
      "------------------------------------------------\n",
      "Training episode: 70\n",
      "[[  0.    0.    0.    0.   80.    0. ]\n",
      " [  0.    0.    0.   64.    0.  100. ]\n",
      " [  0.    0.    0.   64.    0.    0. ]\n",
      " [  0.   80.   51.2   0.   80.    0. ]\n",
      " [ 64.    0.    0.   64.    0.  100. ]\n",
      " [  0.    0.    0.    0.    0.    0. ]]\n",
      "------------------------------------------------\n",
      "Training episode: 80\n",
      "[[  0.    0.    0.    0.   80.    0. ]\n",
      " [  0.    0.    0.   64.    0.  100. ]\n",
      " [  0.    0.    0.   64.    0.    0. ]\n",
      " [  0.   80.   51.2   0.   80.    0. ]\n",
      " [ 64.    0.    0.   64.    0.  100. ]\n",
      " [  0.    0.    0.    0.    0.    0. ]]\n",
      "------------------------------------------------\n",
      "Training episode: 90\n",
      "[[  0.    0.    0.    0.   80.    0. ]\n",
      " [  0.    0.    0.   64.    0.  100. ]\n",
      " [  0.    0.    0.   64.    0.    0. ]\n",
      " [  0.   80.   51.2   0.   80.    0. ]\n",
      " [ 64.    0.    0.   64.    0.  100. ]\n",
      " [  0.    0.    0.    0.    0.    0. ]]\n",
      "------------------------------------------------\n",
      "Training episode: 100\n",
      "[[  0.    0.    0.    0.   80.    0. ]\n",
      " [  0.    0.    0.   64.    0.  100. ]\n",
      " [  0.    0.    0.   64.    0.    0. ]\n",
      " [  0.   80.   51.2   0.   80.    0. ]\n",
      " [ 64.    0.    0.   64.    0.  100. ]\n",
      " [  0.    0.    0.    0.    0.    0. ]]\n"
     ]
    }
   ],
   "source": [
    "import numpy as np\n",
    "\n",
    "# Q 矩阵初始化为0\n",
    "q = np.matrix(np.zeros([6, 6]))\n",
    "\n",
    "# Reward 矩阵为提前定义好的。 类似与HMM的生成矩阵。-1表示无相连接的边\n",
    "r = np.matrix([[-1, -1, -1, -1,  0,  -1],\n",
    "               [-1, -1, -1,  0, -1, 100],\n",
    "               [-1, -1, -1,  0, -1,  -1],\n",
    "               [-1,  0,  0, -1,  0,  -1],\n",
    "               [ 0, -1, -1,  0, -1, 100],\n",
    "               [-1,  0, -1, -1,  0, 100]])\n",
    "\n",
    "# hyperparameter\n",
    "#折扣因子\n",
    "gamma = 0.8\n",
    "#是否选择最后策略的概率\n",
    "epsilon = 0.4\n",
    "# the main training loop\n",
    "for episode in range(101):\n",
    "    # random initial state\n",
    "    state = np.random.randint(0, 6)\n",
    "    # 如果不是最终转态\n",
    "    while (state != 5):\n",
    "        # 选择可能的动作\n",
    "        # Even in random case, we cannot choose actions whose r[state, action] = -1.\n",
    "        possible_actions = []\n",
    "        possible_q = []\n",
    "        for action in range(6):\n",
    "            if r[state, action] >= 0:\n",
    "                possible_actions.append(action)\n",
    "                possible_q.append(q[state, action])\n",
    "\n",
    "        # Step next state, here we use epsilon-greedy algorithm.\n",
    "        action = -1\n",
    "        if np.random.random() < epsilon:\n",
    "            # choose random action\n",
    "            action = possible_actions[np.random.randint(0, len(possible_actions))]\n",
    "        else:\n",
    "            # greedy\n",
    "            action = possible_actions[np.argmax(possible_q)]\n",
    "\n",
    "        # Update Q value\n",
    "        q[state, action] = r[state, action] + gamma * q[action].max()\n",
    "\n",
    "        # Go to the next state\n",
    "        state = action\n",
    "\n",
    "    # Display training progress\n",
    "    if episode % 10 == 0:\n",
    "        print(\"------------------------------------------------\")\n",
    "        print(\"Training episode: %d\" % episode)\n",
    "        print(q)"
   ],
   "metadata": {
    "collapsed": false,
    "pycharm": {
     "name": "#%%\n"
    }
   }
  },
  {
   "cell_type": "code",
   "execution_count": 46,
   "outputs": [
    {
     "data": {
      "text/plain": "array([[ -1,  -1,  -1,  -1,   0,  -1],\n       [ -1,  -1,  -1,   0,  -1, 100],\n       [ -1,  -1,  -1,   0,  -1,  -1],\n       [ -1,   0,   0,  -1,   0,  -1],\n       [  0,  -1,  -1,   0,  -1, 100],\n       [ -1,   0,  -1,  -1,   0, 100]])"
     },
     "execution_count": 46,
     "metadata": {},
     "output_type": "execute_result"
    }
   ],
   "source": [],
   "metadata": {
    "collapsed": false,
    "pycharm": {
     "name": "#%%\n"
    }
   }
  }
 ],
 "metadata": {
  "kernelspec": {
   "display_name": "Python 3",
   "language": "python",
   "name": "python3"
  },
  "language_info": {
   "codemirror_mode": {
    "name": "ipython",
    "version": 2
   },
   "file_extension": ".py",
   "mimetype": "text/x-python",
   "name": "python",
   "nbconvert_exporter": "python",
   "pygments_lexer": "ipython2",
   "version": "2.7.6"
  }
 },
 "nbformat": 4,
 "nbformat_minor": 0
}