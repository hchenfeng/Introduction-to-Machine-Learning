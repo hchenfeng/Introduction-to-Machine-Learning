{
 "cells": [
  {
   "cell_type": "code",
   "execution_count": 16,
   "metadata": {
    "collapsed": true
   },
   "outputs": [
    {
     "name": "stdout",
     "output_type": "stream",
     "text": [
      "X wins:  58 %\n",
      "O wins:  29 %\n",
      "Draw  :  13 %\n"
     ]
    }
   ],
   "source": [
    "#  Tic-Tac-Toe\n",
    "#  plays multiple random games; accumulates stats\n",
    "#  gw\n",
    "\n",
    "import random\n",
    "\n",
    "# global\n",
    "Board = [[' ', ' ', ' '],\n",
    "         [' ', ' ', ' '],\n",
    "         [' ', ' ', ' ']]\n",
    "\n",
    "\n",
    "def resetBoard():\n",
    "    global Board\n",
    "    Board = [[' ', ' ', ' '],\n",
    "             [' ', ' ', ' '],\n",
    "             [' ', ' ', ' ']]\n",
    "\n",
    "\n",
    "# display game state\n",
    "def printBoard():\n",
    "    print(Board[0][0], ' | ', Board[0][1], ' | ', Board[0][2])\n",
    "    print('-------------')\n",
    "    print(Board[1][0], ' | ', Board[1][1], ' | ', Board[1][2])\n",
    "    print('-------------')\n",
    "    print(Board[2][0], ' | ', Board[2][1], ' | ', Board[2][2])\n",
    "    print()\n",
    "\n",
    "\n",
    "# choose random legal move\n",
    "def doMove():\n",
    "    while True:\n",
    "        x = random.randrange(3)\n",
    "        y = random.randrange(3)\n",
    "        if Board[x][y] == ' ':\n",
    "            break\n",
    "    return x, y\n",
    "\n",
    "\n",
    "# test game status\n",
    "def gameWon(piece):\n",
    "    if (((Board[0][0] == piece) and (Board[0][1] == piece) and (Board[0][2] == piece))\n",
    "            or ((Board[1][0] == piece) and (Board[1][1] == piece) and (Board[1][2] == piece))\n",
    "            or ((Board[2][0] == piece) and (Board[2][1] == piece) and (Board[2][2] == piece))\n",
    "            or ((Board[0][0] == piece) and (Board[1][0] == piece) and (Board[2][0] == piece))\n",
    "            or ((Board[0][1] == piece) and (Board[1][1] == piece) and (Board[2][1] == piece))\n",
    "            or ((Board[0][2] == piece) and (Board[1][2] == piece) and (Board[2][2] == piece))\n",
    "            or ((Board[0][0] == piece) and (Board[1][1] == piece) and (Board[2][2] == piece))\n",
    "            or ((Board[0][2] == piece) and (Board[1][1] == piece) and (Board[2][0] == piece))):\n",
    "        return True\n",
    "    else:\n",
    "        return False\n",
    "\n",
    "\n",
    "# run a whole bunch of games\n",
    "# note: X always goes first\n",
    "Xcount = 0\n",
    "Ocount = 0\n",
    "Drawcount = 0\n",
    "# games = int(input('#games? '))\n",
    "games = 100000\n",
    "for i in range(games):\n",
    "    resetBoard()\n",
    "    numMoves = 0\n",
    "    done = False\n",
    "    while not done and (numMoves < 9):\n",
    "        numMoves += 1\n",
    "        if (numMoves % 2) == 1:\n",
    "            piece = 'X'\n",
    "        else:\n",
    "            piece = 'O'\n",
    "        x, y = doMove()\n",
    "        Board[x][y] = piece\n",
    "        if gameWon(piece):\n",
    "            done = True\n",
    "            if piece == 'X':\n",
    "                Xcount += 1\n",
    "            else:\n",
    "                Ocount += 1\n",
    "        if (numMoves == 9) and not done:\n",
    "            Drawcount += 1\n",
    "\n",
    "print('X wins: ', round(100.0 * Xcount / games), '%')\n",
    "print('O wins: ', round(100.0 * Ocount / games), '%')\n",
    "print('Draw  : ', round(100.0 * Drawcount / games), '%')\n"
   ]
  },
  {
   "cell_type": "code",
   "execution_count": 2,
   "outputs": [
    {
     "data": {
      "text/plain": "\"[['X', ' ', 'O'], ['X', 'O', ' '], ['X', ' ', ' ']]\""
     },
     "execution_count": 2,
     "metadata": {},
     "output_type": "execute_result"
    }
   ],
   "source": [
    "str(Board)"
   ],
   "metadata": {
    "collapsed": false,
    "pycharm": {
     "name": "#%%\n"
    }
   }
  },
  {
   "cell_type": "code",
   "execution_count": 4,
   "outputs": [],
   "source": [
    "epsilon = 0.9\n",
    "discount_factor = 0.9\n",
    "learning_rate = 0.9\n",
    "\n",
    "win_reward = 1\n",
    "lose_reward = -1\n",
    "draw_reward = 0\n",
    "\n",
    "\n",
    "# initialize q-values as 0\n",
    "Q = [[]]\n",
    "\n",
    "for episode in range(10):\n",
    "    resetBoard()\n",
    "    numMoves = 0\n",
    "    done = False\n",
    "    states_history = []\n",
    "    while not done and (numMoves < 9):\n",
    "        numMoves += 1\n",
    "        if (numMoves % 2) == 1:\n",
    "            piece = 'X'\n",
    "        else:\n",
    "            piece = 'O'\n",
    "        x, y = doMove()\n",
    "        Board[x][y] = piece\n",
    "        states_history.append(str(Board))\n",
    "        if gameWon(piece):\n",
    "            done = True\n",
    "            if piece == 'X':\n",
    "                Xcount += 1\n",
    "                s2 = states_history[len(states_history)-1]\n",
    "                s1 = states_history[len(states_history)-1 - 2]\n",
    "                # Q[s1, s2] =\n",
    "            else:\n",
    "                Ocount += 1\n",
    "\n",
    "        if (numMoves == 9) and not done:\n",
    "            Drawcount += 1"
   ],
   "metadata": {
    "collapsed": false,
    "pycharm": {
     "name": "#%%\n"
    }
   }
  }
 ],
 "metadata": {
  "kernelspec": {
   "display_name": "Python 3",
   "language": "python",
   "name": "python3"
  },
  "language_info": {
   "codemirror_mode": {
    "name": "ipython",
    "version": 2
   },
   "file_extension": ".py",
   "mimetype": "text/x-python",
   "name": "python",
   "nbconvert_exporter": "python",
   "pygments_lexer": "ipython2",
   "version": "2.7.6"
  }
 },
 "nbformat": 4,
 "nbformat_minor": 0
}