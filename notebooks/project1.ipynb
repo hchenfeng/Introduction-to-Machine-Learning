{
 "cells": [
  {
   "cell_type": "code",
   "execution_count": 10,
   "metadata": {
    "id": "Xtxg3OxCEykZ"
   },
   "outputs": [],
   "source": [
    "import pandas as pd\n"
   ]
  },
  {
   "cell_type": "code",
   "execution_count": 11,
   "metadata": {
    "id": "_STKUEeSGM7u"
   },
   "outputs": [],
   "source": [
    "housing = pd.read_csv(\"~/Downloads/housing.txt\", sep='\\s+')"
   ]
  },
  {
   "cell_type": "code",
   "execution_count": 12,
   "metadata": {
    "colab": {
     "base_uri": "https://localhost:8080/",
     "height": 204
    },
    "id": "FFFSSFcUJX3v",
    "outputId": "e24511a6-8e44-487e-b1a8-15505d043989"
   },
   "outputs": [
    {
     "data": {
      "text/html": [
       "<div>\n",
       "<style scoped>\n",
       "    .dataframe tbody tr th:only-of-type {\n",
       "        vertical-align: middle;\n",
       "    }\n",
       "\n",
       "    .dataframe tbody tr th {\n",
       "        vertical-align: top;\n",
       "    }\n",
       "\n",
       "    .dataframe thead th {\n",
       "        text-align: right;\n",
       "    }\n",
       "</style>\n",
       "<table border=\"1\" class=\"dataframe\">\n",
       "  <thead>\n",
       "    <tr style=\"text-align: right;\">\n",
       "      <th></th>\n",
       "      <th>Value</th>\n",
       "      <th>Rooms</th>\n",
       "      <th>%Aged</th>\n",
       "      <th>PT-Ratio</th>\n",
       "      <th>%Lower</th>\n",
       "    </tr>\n",
       "  </thead>\n",
       "  <tbody>\n",
       "    <tr>\n",
       "      <th>0</th>\n",
       "      <td>24000</td>\n",
       "      <td>6.6</td>\n",
       "      <td>65</td>\n",
       "      <td>15.3</td>\n",
       "      <td>5.0</td>\n",
       "    </tr>\n",
       "    <tr>\n",
       "      <th>1</th>\n",
       "      <td>21600</td>\n",
       "      <td>6.4</td>\n",
       "      <td>79</td>\n",
       "      <td>17.8</td>\n",
       "      <td>9.1</td>\n",
       "    </tr>\n",
       "    <tr>\n",
       "      <th>2</th>\n",
       "      <td>34700</td>\n",
       "      <td>7.2</td>\n",
       "      <td>61</td>\n",
       "      <td>17.8</td>\n",
       "      <td>4.0</td>\n",
       "    </tr>\n",
       "    <tr>\n",
       "      <th>3</th>\n",
       "      <td>33400</td>\n",
       "      <td>7.0</td>\n",
       "      <td>46</td>\n",
       "      <td>18.7</td>\n",
       "      <td>2.9</td>\n",
       "    </tr>\n",
       "    <tr>\n",
       "      <th>4</th>\n",
       "      <td>36200</td>\n",
       "      <td>7.1</td>\n",
       "      <td>54</td>\n",
       "      <td>18.7</td>\n",
       "      <td>5.3</td>\n",
       "    </tr>\n",
       "  </tbody>\n",
       "</table>\n",
       "</div>"
      ],
      "text/plain": [
       "   Value  Rooms  %Aged  PT-Ratio  %Lower\n",
       "0  24000    6.6     65      15.3     5.0\n",
       "1  21600    6.4     79      17.8     9.1\n",
       "2  34700    7.2     61      17.8     4.0\n",
       "3  33400    7.0     46      18.7     2.9\n",
       "4  36200    7.1     54      18.7     5.3"
      ]
     },
     "execution_count": 12,
     "metadata": {},
     "output_type": "execute_result"
    }
   ],
   "source": [
    "housing.head()"
   ]
  },
  {
   "cell_type": "code",
   "execution_count": 13,
   "metadata": {
    "colab": {
     "base_uri": "https://localhost:8080/",
     "height": 297
    },
    "id": "SmuNXza1G1ux",
    "outputId": "eb6790fe-249a-43e1-ed6f-7176827e07a0"
   },
   "outputs": [
    {
     "data": {
      "text/html": [
       "<div>\n",
       "<style scoped>\n",
       "    .dataframe tbody tr th:only-of-type {\n",
       "        vertical-align: middle;\n",
       "    }\n",
       "\n",
       "    .dataframe tbody tr th {\n",
       "        vertical-align: top;\n",
       "    }\n",
       "\n",
       "    .dataframe thead th {\n",
       "        text-align: right;\n",
       "    }\n",
       "</style>\n",
       "<table border=\"1\" class=\"dataframe\">\n",
       "  <thead>\n",
       "    <tr style=\"text-align: right;\">\n",
       "      <th></th>\n",
       "      <th>Value</th>\n",
       "      <th>Rooms</th>\n",
       "      <th>%Aged</th>\n",
       "      <th>PT-Ratio</th>\n",
       "      <th>%Lower</th>\n",
       "    </tr>\n",
       "  </thead>\n",
       "  <tbody>\n",
       "    <tr>\n",
       "      <th>count</th>\n",
       "      <td>506.000000</td>\n",
       "      <td>506.000000</td>\n",
       "      <td>506.000000</td>\n",
       "      <td>506.000000</td>\n",
       "      <td>504.000000</td>\n",
       "    </tr>\n",
       "    <tr>\n",
       "      <th>mean</th>\n",
       "      <td>22532.806324</td>\n",
       "      <td>6.238142</td>\n",
       "      <td>68.616601</td>\n",
       "      <td>18.455534</td>\n",
       "      <td>12.672817</td>\n",
       "    </tr>\n",
       "    <tr>\n",
       "      <th>std</th>\n",
       "      <td>9197.104087</td>\n",
       "      <td>1.042763</td>\n",
       "      <td>28.138400</td>\n",
       "      <td>2.164946</td>\n",
       "      <td>7.148724</td>\n",
       "    </tr>\n",
       "    <tr>\n",
       "      <th>min</th>\n",
       "      <td>5000.000000</td>\n",
       "      <td>-6.200000</td>\n",
       "      <td>3.000000</td>\n",
       "      <td>12.600000</td>\n",
       "      <td>1.700000</td>\n",
       "    </tr>\n",
       "    <tr>\n",
       "      <th>25%</th>\n",
       "      <td>17025.000000</td>\n",
       "      <td>5.900000</td>\n",
       "      <td>45.000000</td>\n",
       "      <td>17.400000</td>\n",
       "      <td>6.975000</td>\n",
       "    </tr>\n",
       "    <tr>\n",
       "      <th>50%</th>\n",
       "      <td>21200.000000</td>\n",
       "      <td>6.200000</td>\n",
       "      <td>77.500000</td>\n",
       "      <td>19.050000</td>\n",
       "      <td>11.350000</td>\n",
       "    </tr>\n",
       "    <tr>\n",
       "      <th>75%</th>\n",
       "      <td>25000.000000</td>\n",
       "      <td>6.600000</td>\n",
       "      <td>94.000000</td>\n",
       "      <td>20.200000</td>\n",
       "      <td>17.025000</td>\n",
       "    </tr>\n",
       "    <tr>\n",
       "      <th>max</th>\n",
       "      <td>50000.000000</td>\n",
       "      <td>8.800000</td>\n",
       "      <td>100.000000</td>\n",
       "      <td>22.000000</td>\n",
       "      <td>38.000000</td>\n",
       "    </tr>\n",
       "  </tbody>\n",
       "</table>\n",
       "</div>"
      ],
      "text/plain": [
       "              Value       Rooms       %Aged    PT-Ratio      %Lower\n",
       "count    506.000000  506.000000  506.000000  506.000000  504.000000\n",
       "mean   22532.806324    6.238142   68.616601   18.455534   12.672817\n",
       "std     9197.104087    1.042763   28.138400    2.164946    7.148724\n",
       "min     5000.000000   -6.200000    3.000000   12.600000    1.700000\n",
       "25%    17025.000000    5.900000   45.000000   17.400000    6.975000\n",
       "50%    21200.000000    6.200000   77.500000   19.050000   11.350000\n",
       "75%    25000.000000    6.600000   94.000000   20.200000   17.025000\n",
       "max    50000.000000    8.800000  100.000000   22.000000   38.000000"
      ]
     },
     "execution_count": 13,
     "metadata": {},
     "output_type": "execute_result"
    }
   ],
   "source": [
    "housing.describe()"
   ]
  },
  {
   "cell_type": "code",
   "execution_count": 14,
   "metadata": {
    "colab": {
     "base_uri": "https://localhost:8080/"
    },
    "id": "TJih04GwHBAA",
    "outputId": "14fa3200-7cd9-4518-d2b3-dd7a731337ee"
   },
   "outputs": [
    {
     "data": {
      "text/plain": [
       "Value       0\n",
       "Rooms       0\n",
       "%Aged       0\n",
       "PT-Ratio    0\n",
       "%Lower      2\n",
       "dtype: int64"
      ]
     },
     "execution_count": 14,
     "metadata": {},
     "output_type": "execute_result"
    }
   ],
   "source": [
    "housing.isna().sum()"
   ]
  },
  {
   "cell_type": "markdown",
   "metadata": {
    "id": "2Wf6nFawKQVc"
   },
   "source": [
    "We can verify that there are 2 missing values in the \"%Lower\" column. "
   ]
  },
  {
   "cell_type": "code",
   "execution_count": 15,
   "metadata": {
    "colab": {
     "base_uri": "https://localhost:8080/",
     "height": 111
    },
    "id": "0M6TWwFUM_vt",
    "outputId": "f3182155-6d05-482b-a1a5-8e6d446f96e6"
   },
   "outputs": [
    {
     "data": {
      "text/html": [
       "<div>\n",
       "<style scoped>\n",
       "    .dataframe tbody tr th:only-of-type {\n",
       "        vertical-align: middle;\n",
       "    }\n",
       "\n",
       "    .dataframe tbody tr th {\n",
       "        vertical-align: top;\n",
       "    }\n",
       "\n",
       "    .dataframe thead th {\n",
       "        text-align: right;\n",
       "    }\n",
       "</style>\n",
       "<table border=\"1\" class=\"dataframe\">\n",
       "  <thead>\n",
       "    <tr style=\"text-align: right;\">\n",
       "      <th></th>\n",
       "      <th>Value</th>\n",
       "      <th>Rooms</th>\n",
       "      <th>%Aged</th>\n",
       "      <th>PT-Ratio</th>\n",
       "      <th>%Lower</th>\n",
       "    </tr>\n",
       "  </thead>\n",
       "  <tbody>\n",
       "    <tr>\n",
       "      <th>36</th>\n",
       "      <td>20000</td>\n",
       "      <td>5.8</td>\n",
       "      <td>61</td>\n",
       "      <td>19.2</td>\n",
       "      <td>NaN</td>\n",
       "    </tr>\n",
       "    <tr>\n",
       "      <th>250</th>\n",
       "      <td>24400</td>\n",
       "      <td>6.5</td>\n",
       "      <td>13</td>\n",
       "      <td>19.1</td>\n",
       "      <td>NaN</td>\n",
       "    </tr>\n",
       "  </tbody>\n",
       "</table>\n",
       "</div>"
      ],
      "text/plain": [
       "     Value  Rooms  %Aged  PT-Ratio  %Lower\n",
       "36   20000    5.8     61      19.2     NaN\n",
       "250  24400    6.5     13      19.1     NaN"
      ]
     },
     "execution_count": 15,
     "metadata": {},
     "output_type": "execute_result"
    }
   ],
   "source": [
    "housing[housing['%Lower'].isnull()]"
   ]
  },
  {
   "cell_type": "markdown",
   "metadata": {
    "id": "zE-j6_WHMo6r"
   },
   "source": [
    "For row 36, we may also replace the \"NaN\" with its mean, because other variables of the same row are close to their means. It's harder to assign a replacement for row 250, as the \"%Aged\" variable is far away from its mean, while other variables are closer to theirs. However, this way of thinking assumes linear relationships amongst the variables, which may or may not be the case. Given the small number of missing values (2 out of 506), it may be best to simply drop them, since their impact on the dataset is more likely to be minimal."
   ]
  },
  {
   "cell_type": "code",
   "execution_count": 16,
   "metadata": {
    "colab": {
     "base_uri": "https://localhost:8080/",
     "height": 297
    },
    "id": "RnBIhLtJOHbC",
    "outputId": "5862fd8f-f1f7-43f2-ce1a-755ce58d1f13"
   },
   "outputs": [
    {
     "data": {
      "text/html": [
       "<div>\n",
       "<style scoped>\n",
       "    .dataframe tbody tr th:only-of-type {\n",
       "        vertical-align: middle;\n",
       "    }\n",
       "\n",
       "    .dataframe tbody tr th {\n",
       "        vertical-align: top;\n",
       "    }\n",
       "\n",
       "    .dataframe thead th {\n",
       "        text-align: right;\n",
       "    }\n",
       "</style>\n",
       "<table border=\"1\" class=\"dataframe\">\n",
       "  <thead>\n",
       "    <tr style=\"text-align: right;\">\n",
       "      <th></th>\n",
       "      <th>Value</th>\n",
       "      <th>Rooms</th>\n",
       "      <th>%Aged</th>\n",
       "      <th>PT-Ratio</th>\n",
       "      <th>%Lower</th>\n",
       "    </tr>\n",
       "  </thead>\n",
       "  <tbody>\n",
       "    <tr>\n",
       "      <th>count</th>\n",
       "      <td>504.000000</td>\n",
       "      <td>504.000000</td>\n",
       "      <td>504.000000</td>\n",
       "      <td>504.000000</td>\n",
       "      <td>504.000000</td>\n",
       "    </tr>\n",
       "    <tr>\n",
       "      <th>mean</th>\n",
       "      <td>22534.126984</td>\n",
       "      <td>6.238492</td>\n",
       "      <td>68.742063</td>\n",
       "      <td>18.452778</td>\n",
       "      <td>12.672817</td>\n",
       "    </tr>\n",
       "    <tr>\n",
       "      <th>std</th>\n",
       "      <td>9214.302244</td>\n",
       "      <td>1.044586</td>\n",
       "      <td>28.082684</td>\n",
       "      <td>2.168799</td>\n",
       "      <td>7.148724</td>\n",
       "    </tr>\n",
       "    <tr>\n",
       "      <th>min</th>\n",
       "      <td>5000.000000</td>\n",
       "      <td>-6.200000</td>\n",
       "      <td>3.000000</td>\n",
       "      <td>12.600000</td>\n",
       "      <td>1.700000</td>\n",
       "    </tr>\n",
       "    <tr>\n",
       "      <th>25%</th>\n",
       "      <td>16950.000000</td>\n",
       "      <td>5.900000</td>\n",
       "      <td>45.000000</td>\n",
       "      <td>17.375000</td>\n",
       "      <td>6.975000</td>\n",
       "    </tr>\n",
       "    <tr>\n",
       "      <th>50%</th>\n",
       "      <td>21200.000000</td>\n",
       "      <td>6.200000</td>\n",
       "      <td>78.000000</td>\n",
       "      <td>19.000000</td>\n",
       "      <td>11.350000</td>\n",
       "    </tr>\n",
       "    <tr>\n",
       "      <th>75%</th>\n",
       "      <td>25000.000000</td>\n",
       "      <td>6.600000</td>\n",
       "      <td>94.000000</td>\n",
       "      <td>20.200000</td>\n",
       "      <td>17.025000</td>\n",
       "    </tr>\n",
       "    <tr>\n",
       "      <th>max</th>\n",
       "      <td>50000.000000</td>\n",
       "      <td>8.800000</td>\n",
       "      <td>100.000000</td>\n",
       "      <td>22.000000</td>\n",
       "      <td>38.000000</td>\n",
       "    </tr>\n",
       "  </tbody>\n",
       "</table>\n",
       "</div>"
      ],
      "text/plain": [
       "              Value       Rooms       %Aged    PT-Ratio      %Lower\n",
       "count    504.000000  504.000000  504.000000  504.000000  504.000000\n",
       "mean   22534.126984    6.238492   68.742063   18.452778   12.672817\n",
       "std     9214.302244    1.044586   28.082684    2.168799    7.148724\n",
       "min     5000.000000   -6.200000    3.000000   12.600000    1.700000\n",
       "25%    16950.000000    5.900000   45.000000   17.375000    6.975000\n",
       "50%    21200.000000    6.200000   78.000000   19.000000   11.350000\n",
       "75%    25000.000000    6.600000   94.000000   20.200000   17.025000\n",
       "max    50000.000000    8.800000  100.000000   22.000000   38.000000"
      ]
     },
     "execution_count": 16,
     "metadata": {},
     "output_type": "execute_result"
    }
   ],
   "source": [
    "housing.dropna().describe()"
   ]
  },
  {
   "cell_type": "markdown",
   "metadata": {
    "id": "raByogDVQWoS"
   },
   "source": [
    "We can verify dropping the two rows with missing values does not change much of the summary statistics."
   ]
  },
  {
   "cell_type": "code",
   "execution_count": 17,
   "metadata": {
    "colab": {
     "base_uri": "https://localhost:8080/",
     "height": 111
    },
    "id": "lTvm8skiQiUV",
    "outputId": "6f3cd112-c500-4baa-a889-fa51e197f6c8",
    "pycharm": {
     "name": "#%%\n"
    }
   },
   "outputs": [
    {
     "data": {
      "text/html": [
       "<div>\n",
       "<style scoped>\n",
       "    .dataframe tbody tr th:only-of-type {\n",
       "        vertical-align: middle;\n",
       "    }\n",
       "\n",
       "    .dataframe tbody tr th {\n",
       "        vertical-align: top;\n",
       "    }\n",
       "\n",
       "    .dataframe thead th {\n",
       "        text-align: right;\n",
       "    }\n",
       "</style>\n",
       "<table border=\"1\" class=\"dataframe\">\n",
       "  <thead>\n",
       "    <tr style=\"text-align: right;\">\n",
       "      <th></th>\n",
       "      <th>Value</th>\n",
       "      <th>Rooms</th>\n",
       "      <th>%Aged</th>\n",
       "      <th>PT-Ratio</th>\n",
       "      <th>%Lower</th>\n",
       "    </tr>\n",
       "  </thead>\n",
       "  <tbody>\n",
       "    <tr>\n",
       "      <th>15</th>\n",
       "      <td>19900</td>\n",
       "      <td>-5.8</td>\n",
       "      <td>57</td>\n",
       "      <td>21.0</td>\n",
       "      <td>8.5</td>\n",
       "    </tr>\n",
       "    <tr>\n",
       "      <th>83</th>\n",
       "      <td>22900</td>\n",
       "      <td>-6.2</td>\n",
       "      <td>47</td>\n",
       "      <td>19.0</td>\n",
       "      <td>7.5</td>\n",
       "    </tr>\n",
       "  </tbody>\n",
       "</table>\n",
       "</div>"
      ],
      "text/plain": [
       "    Value  Rooms  %Aged  PT-Ratio  %Lower\n",
       "15  19900   -5.8     57      21.0     8.5\n",
       "83  22900   -6.2     47      19.0     7.5"
      ]
     },
     "execution_count": 17,
     "metadata": {},
     "output_type": "execute_result"
    }
   ],
   "source": [
    "housing_no_missing = housing.dropna()\n",
    "housing[housing['Rooms'] < 0]\n",
    "\n",
    "\n",
    "\n"
   ]
  }
 ],
 "metadata": {
  "celltoolbar": "Tags",
  "colab": {
   "collapsed_sections": [],
   "name": "project1.ipynb",
   "provenance": []
  },
  "kernelspec": {
   "display_name": "Python 3",
   "language": "python",
   "name": "python3"
  },
  "language_info": {
   "codemirror_mode": {
    "name": "ipython",
    "version": 3
   },
   "file_extension": ".py",
   "mimetype": "text/x-python",
   "name": "python",
   "nbconvert_exporter": "python",
   "pygments_lexer": "ipython3",
   "version": "3.8.5"
  }
 },
 "nbformat": 4,
 "nbformat_minor": 1
}